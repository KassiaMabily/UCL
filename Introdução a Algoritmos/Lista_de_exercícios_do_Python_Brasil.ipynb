{
  "nbformat": 4,
  "nbformat_minor": 0,
  "metadata": {
    "colab": {
      "name": "Lista de exercícios do Python Brasil.ipynb",
      "provenance": [],
      "collapsed_sections": [
        "_jWZBv2-qqfn",
        "q2UbwUystABg",
        "2rycsy1itbK3",
        "lQv1JIA6gK0G",
        "uY945paEw9wn",
        "tq-1SRnVKQF1",
        "kbG9ntUFK-Jn",
        "o80K-DrPMTAU",
        "ibDdObnXM_40",
        "rSs6w7r2Nu9S",
        "FaPgNznFPOtm",
        "FVMbW3A3Qc05",
        "zNok3kR8RlBm",
        "5MllIzrm9cjF",
        "LOU_4GlG_ajt",
        "MJRTDzPqAR7I",
        "XGDN125OEDAN",
        "d1uMzgEiJjmB",
        "aW0wKTDGNVJE",
        "6ao4PBdLP20W",
        "dAjrTghaUWn_",
        "EjgNlziHZfy1",
        "AR-DoQRqq5Mb",
        "HNjvIDVlwo93",
        "JHAJ1Nsl0DqL"
      ],
      "include_colab_link": true
    },
    "kernelspec": {
      "name": "python3",
      "display_name": "Python 3"
    },
    "language_info": {
      "name": "python"
    }
  },
  "cells": [
    {
      "cell_type": "markdown",
      "metadata": {
        "id": "view-in-github",
        "colab_type": "text"
      },
      "source": [
        "<a href=\"https://colab.research.google.com/github/KassiaMabily/Colaboratory-UCL/blob/main/Lista_de_exerc%C3%ADcios_do_Python_Brasil.ipynb\" target=\"_parent\"><img src=\"https://colab.research.google.com/assets/colab-badge.svg\" alt=\"Open In Colab\"/></a>"
      ]
    },
    {
      "cell_type": "markdown",
      "metadata": {
        "id": "c378MR8egCvj"
      },
      "source": [
        "# [Lista de execícios Python Brasil](https://wiki.python.org.br/ListaDeExercicios)\n",
        "\n",
        "2021/1: Introdução a algoritmos - Marlon Ferrari\n",
        "\n",
        "\n",
        "\n"
      ]
    },
    {
      "cell_type": "markdown",
      "metadata": {
        "id": "_jWZBv2-qqfn"
      },
      "source": [
        "# Estrutura Sequencial"
      ]
    },
    {
      "cell_type": "markdown",
      "metadata": {
        "id": "q2UbwUystABg"
      },
      "source": [
        "## 1. Faça um Programa que mostre a mensagem \"Alo mundo\" na tela."
      ]
    },
    {
      "cell_type": "code",
      "metadata": {
        "id": "uIL7THIJtMmo"
      },
      "source": [
        "print(\"Hello World!!\")"
      ],
      "execution_count": null,
      "outputs": []
    },
    {
      "cell_type": "markdown",
      "metadata": {
        "id": "2rycsy1itbK3"
      },
      "source": [
        "## 2. Faça um Programa que peça um número e então mostre a mensagem O número informado foi [número].\n",
        "\n",
        "[Python 3's f-Strings: An Improved String Formatting Syntax (Guide)](https://realpython.com/python-f-strings/)"
      ]
    },
    {
      "cell_type": "code",
      "metadata": {
        "colab": {
          "base_uri": "https://localhost:8080/"
        },
        "id": "-ObpCIjTthdj",
        "outputId": "26e98d3c-62ba-4eb9-b4e3-409eb09b956d"
      },
      "source": [
        "number = float(input(\"Informe um número: \"))\n",
        "\n",
        "# Print normal\n",
        "print(\"O número informado foi\", number)\n",
        "\n",
        "# Concatenação\n",
        "print(\"O número informado foi \" + str(number))\n",
        "\n",
        "# Formatação\n",
        "print(\"O número informado foi %s\" % number)\n",
        "print(\"O número informado foi {}\".format(number))\n",
        "print(f\"O número informado foi {number}\")\n",
        "\n",
        "print(\"O número informado foi %.2f\" % number)\n",
        "print(\"O número informado foi {:.2f}\".format(number))\n",
        "print(f\"O número informado foi {number:.2f}\")"
      ],
      "execution_count": null,
      "outputs": [
        {
          "output_type": "stream",
          "text": [
            "Informe um número: 1\n",
            "O número informado foi 1.0\n",
            "O número informado foi 1.0\n",
            "O número informado foi 1.0\n",
            "O número informado foi 1.0\n",
            "O número informado foi 1.00\n",
            "O número informado foi 1.00\n",
            "O número informado foi 1.00\n"
          ],
          "name": "stdout"
        }
      ]
    },
    {
      "cell_type": "markdown",
      "metadata": {
        "id": "lQv1JIA6gK0G"
      },
      "source": [
        "## 3. Faça um Programa que peça dois números e imprima a soma."
      ]
    },
    {
      "cell_type": "code",
      "metadata": {
        "colab": {
          "base_uri": "https://localhost:8080/"
        },
        "id": "a8-k7c9if5pF",
        "outputId": "dab4df7d-91bf-4c36-9ad6-e9f3659020a3"
      },
      "source": [
        "# Entrada\n",
        "numero_1 = float(input(\"Digite um número: \"))\n",
        "numero_2 = float(input(\"Digite outro número: \"))\n",
        "\n",
        "# Processamento\n",
        "saida = number_1 + number_2\n",
        "\n",
        "# Saída\n",
        "print(f\"O resultado da soma é: {saida}\")"
      ],
      "execution_count": null,
      "outputs": [
        {
          "output_type": "stream",
          "text": [
            "Digite um número: 1\n",
            "Digite outro número: 3\n",
            "O resultado da soma é: 4.0\n"
          ],
          "name": "stdout"
        }
      ]
    },
    {
      "cell_type": "markdown",
      "metadata": {
        "id": "L0aPOAIcgxA0"
      },
      "source": [
        "## 4. Faça um Programa que peça as 4 notas bimestrais e mostre a média.\n",
        "\n",
        "[Exemplos com round](https://https://www.geeksforgeeks.org/round-function-python/)"
      ]
    },
    {
      "cell_type": "code",
      "metadata": {
        "colab": {
          "base_uri": "https://localhost:8080/"
        },
        "id": "cxAUNzBNvJM1",
        "outputId": "c32d5bd0-be56-4e9b-9680-f8490e3b6801"
      },
      "source": [
        "# Entrada\n",
        "nota_1 = float(input(\"Insira a primeira nota: \"))\n",
        "nota_2 = float(input(\"Insira a primeira nota: \"))\n",
        "nota_3 = float(input(\"Insira a primeira nota: \"))\n",
        "nota_4 = float(input(\"Insira a primeira nota: \"))\n",
        "\n",
        "# Processamento\n",
        "media = (nota_1 + nota_2 + nota_3 + nota_4) / 4\n",
        "arredondamento_media = round(media, 2)\n",
        "\n",
        "# Saída\n",
        "print(f\"O número informado foi {arredondamento_media}\")\n",
        "print(f\"O número informado foi {arredondamento_media:.2f}\")"
      ],
      "execution_count": null,
      "outputs": [
        {
          "output_type": "stream",
          "text": [
            "Insira a primeira nota: 5\n",
            "Insira a primeira nota: 7\n",
            "Insira a primeira nota: 8\n",
            "Insira a primeira nota: 10\n",
            "O número informado foi 7.5\n",
            "O número informado foi 7.5\n",
            "O número informado foi 7.50\n"
          ],
          "name": "stdout"
        }
      ]
    },
    {
      "cell_type": "code",
      "metadata": {
        "colab": {
          "base_uri": "https://localhost:8080/"
        },
        "id": "Eyq2kxgWg2_1",
        "outputId": "a39a26f4-f391-4404-aabb-ea5451672a57"
      },
      "source": [
        "import sys\n",
        "\n",
        "notas_bimestrais_entrada = input(\"Digite as 4 notas bimestrais do aluno separadas por vírgula: \")\n",
        "notas_bimestrais = [ float(nota.strip()) for nota in notas_bimestrais_entrada.split(',') ]\n",
        "\n",
        "if(len(notas_bimestrais) > 4):\n",
        "  sys.exit(\"Digite apenas 4 notas\")\n",
        "\n",
        "media = sum(notas_bimestrais) / len(notas_bimestrais)\n",
        "print(f\"A média do aluno é: {media:.2f}\")"
      ],
      "execution_count": null,
      "outputs": [
        {
          "output_type": "stream",
          "text": [
            "Digite as 4 notas bimestrais do aluno separadas por vírgula: 9,9,9,9\n",
            "A média do aluno é: 9.00\n"
          ],
          "name": "stdout"
        }
      ]
    },
    {
      "cell_type": "markdown",
      "metadata": {
        "id": "T8hwbdZHiJZa"
      },
      "source": [
        "## 5. Faça um Programa que converta metros para centímetros."
      ]
    },
    {
      "cell_type": "code",
      "metadata": {
        "colab": {
          "base_uri": "https://localhost:8080/"
        },
        "id": "jKjgmrfoiOqs",
        "outputId": "bde38d1a-9acf-41a7-bd00-39ef74334f50"
      },
      "source": [
        "# Entradas\n",
        "metros = float(input(\"Insira um número para conversão para centímetros: \"))\n",
        "\n",
        "# Processamento\n",
        "conversao = metros * 100\n",
        "\n",
        "# Saída\n",
        "print(\"A sua medida de\", metros, \"em centímetros é:\", conversao)\n",
        "print(f\"A sua medida de {metros} em centímetros é: {conversao:.2f}\")"
      ],
      "execution_count": null,
      "outputs": [
        {
          "output_type": "stream",
          "text": [
            "Insira um número para conversão para centímetros: 0.29\n",
            "A sua medida de 0.29 em centímetros é: 29.00\n"
          ],
          "name": "stdout"
        }
      ]
    },
    {
      "cell_type": "markdown",
      "metadata": {
        "id": "8a_B06AesXq-"
      },
      "source": [
        "## 6. Faça um Programa que peça o raio de um círculo, calcule e mostre sua área. "
      ]
    },
    {
      "cell_type": "code",
      "metadata": {
        "colab": {
          "base_uri": "https://localhost:8080/"
        },
        "id": "rWhEwWGKsgFC",
        "outputId": "12895c6d-8a73-45eb-e8ac-cafd83e39601"
      },
      "source": [
        "raio = float(input(\"Digite o raio do círculo: \"))\n",
        "\n",
        "# Formas de calcular\n",
        "area_1 = 3.14 * ( raio * raio )\n",
        "area_2 = 3.14 * ( raio ** 2 )\n",
        "\n",
        "print(\"Área calculada\", area_1)\n",
        "print(\"Área calculada\", area_2)\n"
      ],
      "execution_count": null,
      "outputs": [
        {
          "output_type": "stream",
          "text": [
            "Digite o raio do círculo5\n",
            "Área calculada 78.5\n",
            "Área calculada 78.5\n"
          ],
          "name": "stdout"
        }
      ]
    },
    {
      "cell_type": "markdown",
      "metadata": {
        "id": "-NPypvzIuJPg"
      },
      "source": [
        "## 7. Faça um Programa que calcule a área de um quadrado, em seguida mostre o dobro desta área para o usuário."
      ]
    },
    {
      "cell_type": "code",
      "metadata": {
        "id": "6suJsMC2uQoB"
      },
      "source": [
        "tamanho_lado = float(input(\"Digite o tamanho do lado de um quadrado: \"))\n",
        "\n",
        "area_quadrado = tamanho_lado ** 2\n",
        "dobro_area = 2 * area_quadrado\n",
        "\n",
        "print(\"A área do quadrado de lado\", tamanho_lado, \"é de\", area_quadrado, \"e o dobro de sua área é\", dobro_area)"
      ],
      "execution_count": null,
      "outputs": []
    },
    {
      "cell_type": "markdown",
      "metadata": {
        "id": "Ye3b7yvNu98f"
      },
      "source": [
        "## 8. Faça um Programa que pergunte quanto você ganha por hora e o número de horas trabalhadas no mês. Calcule e mostre o total do seu salário no referido mês."
      ]
    },
    {
      "cell_type": "code",
      "metadata": {
        "id": "s0gL43FsvD5w"
      },
      "source": [
        "valor_por_hora = float(input(\"Quanto que você ganha por hora? \"))\n",
        "quantidade_horas = float(input(\"Quantas horas você trabalhou no mês? \"))\n",
        "\n",
        "salario = valor_por_hora * quantidade_horas\n",
        "arredondamento = round(salario, 2)\n",
        "\n",
        "print(\"O seu salário neste mês é de\", arredondamento)"
      ],
      "execution_count": null,
      "outputs": []
    },
    {
      "cell_type": "markdown",
      "metadata": {
        "id": "3S9Hch4mj2F-"
      },
      "source": [
        "## 9. Faça um Programa que peça a temperatura em graus Fahrenheit, transforme e mostre a temperatura em graus Celsius.\n",
        "C = 5 * ((F-32) / 9)."
      ]
    },
    {
      "cell_type": "code",
      "metadata": {
        "colab": {
          "base_uri": "https://localhost:8080/"
        },
        "id": "LQg05m_EkWd3",
        "outputId": "eb46c059-b616-4a0c-917d-f591ae97db05"
      },
      "source": [
        "# Entrada\n",
        "graus_fah = float(input(\"Insira a temperatura em Fahrenheit: \"))\n",
        "\n",
        "# Processamento\n",
        "graus_celsius = 5 * (( graus_fah - 32 ) / 9)\n",
        "\n",
        "# Saída\n",
        "print(f\"O resultado da conversão é: {graus_celsius}\")\n",
        "print(f\"O resultado da conversão é: {graus_celsius:.1f}\")\n",
        "print(f\"O resultado da conversão é: {graus_celsius:.2f}\")\n",
        "\n",
        "print(\"O resultado da conversão é\", round(graus_celsius, 0))\n",
        "print(\"O resultado da conversão é\", round(graus_celsius, 2))\n",
        "print(f\"O resultado da conversão é: {round(graus_celsius, 0):.2f}\")"
      ],
      "execution_count": null,
      "outputs": [
        {
          "output_type": "stream",
          "text": [
            "Insira a temperatura em Fahrenheit: 237\n",
            "O resultado da conversão é: 113.88888888888889\n",
            "O resultado da conversão é: 113.9\n",
            "O resultado da conversão é: 113.89\n",
            "O resultado da conversão é 114.0\n",
            "O resultado da conversão é 113.89\n",
            "O resultado da conversão é: 114.00\n"
          ],
          "name": "stdout"
        }
      ]
    },
    {
      "cell_type": "markdown",
      "metadata": {
        "id": "vOFkWdnYvp8b"
      },
      "source": [
        "## 10. Faça um Programa que peça a temperatura em graus Celsius, transforme e mostre em graus Fahrenheit."
      ]
    },
    {
      "cell_type": "code",
      "metadata": {
        "colab": {
          "base_uri": "https://localhost:8080/"
        },
        "id": "zXmNxzWJvzkV",
        "outputId": "ce35ed78-3774-4994-c1cd-116131b30c3a"
      },
      "source": [
        "graus_celsius = float(input(\"Insira a temperatura em graus Celsius: \"))\n",
        "\n",
        "graus_fahrenheit = (graus_celsius * (9/5) ) + 32\n",
        "arredondamento = round(graus_fahrenheit, 0)\n",
        "\n",
        "print(f\"{int(graus_celsius)} °C = {int(graus_fahrenheit)} °F\")"
      ],
      "execution_count": null,
      "outputs": [
        {
          "output_type": "stream",
          "text": [
            "Insira a temperatura em graus Celsius: 0\n",
            "0 °C = 32 °F\n"
          ],
          "name": "stdout"
        }
      ]
    },
    {
      "cell_type": "markdown",
      "metadata": {
        "id": "IH9Qqnozw-3w"
      },
      "source": [
        "## 11. Faça um Programa que peça 2 números inteiros e um número real. Calcule e mostre:\n",
        "1. o produto do dobro do primeiro com metade do segundo .\n",
        "2. a soma do triplo do primeiro com o terceiro.\n",
        "3. o terceiro elevado ao cubo. "
      ]
    },
    {
      "cell_type": "code",
      "metadata": {
        "id": "0yHrqkYJxJqo"
      },
      "source": [
        "numero_inteiro_1 = int(input(\"Digite um número inteiro: \"))\n",
        "numero_inteiro_2 = int(input(\"Digite outro número inteiro: \"))\n",
        "numero_real = float(input(\"Digite um número real: \"))\n",
        "\n",
        "operacao_1 = ( 2 * numero_inteiro_1 ) * ( numero_inteiro_2 / 2 )\n",
        "operacao_2 = ( 3 * numero_inteiro_1 ) + numero_real\n",
        "operacao_3 = numero_real ** 3\n",
        "\n",
        "print(\"O produto do dobro do primeiro com metade do segundo\", round(operacao_1, 2))\n",
        "print(\"A soma do triplo do primeiro com o terceiro.\", round(operacao_2, 2))\n",
        "print(\"O terceiro elevado ao cubo.\", round(operacao_3, 2))"
      ],
      "execution_count": null,
      "outputs": []
    },
    {
      "cell_type": "markdown",
      "metadata": {
        "id": "CMij4IbjySBL"
      },
      "source": [
        "## 12. Tendo como dados de entrada a altura de uma pessoa, construa um algoritmo que calcule seu peso ideal, usando a seguinte fórmula: (72.7*altura) - 58"
      ]
    },
    {
      "cell_type": "code",
      "metadata": {
        "id": "pHT-2IG_yVSb"
      },
      "source": [
        "altura = float(input(\"Insira a sua altura: \"))\n",
        "\n",
        "peso_ideal = ( 72.7* altura ) - 58\n",
        "\n",
        "print(\"O seu peso ideal seria\", pesoa_ideal)"
      ],
      "execution_count": null,
      "outputs": []
    },
    {
      "cell_type": "markdown",
      "metadata": {
        "id": "uY945paEw9wn"
      },
      "source": [
        "## 13. Tendo como dado de entrada a altura (h) de uma pessoa, construa um algoritmo que calcule seu peso ideal, utilizando as seguintes fórmulas:\n",
        "* Para homens: (72.7*h) - 58\n",
        "* Para mulheres: (62.1*h) - 44.7"
      ]
    },
    {
      "cell_type": "code",
      "metadata": {
        "colab": {
          "base_uri": "https://localhost:8080/"
        },
        "id": "HXm-boRg0mt9",
        "outputId": "77eecdbe-4903-4e37-8216-2a967380ac33"
      },
      "source": [
        "h = float(input(\"Digite a altura: \"))\n",
        "homens = (72.7*h) - 58\n",
        "mulheres = (62.1*h) - 44.7\n",
        "\n",
        "print(f\"O peso ideal para o homem é de {round(homens,2)} e de {round(mulheres,2)} para mulheres com a altura de {h}\")"
      ],
      "execution_count": null,
      "outputs": [
        {
          "output_type": "stream",
          "text": [
            "Digite a altura: 1.75\n",
            "O peso ideal para o homem é de 69.23 e de 63.97 para mulheres com a altura de 1.75\n"
          ],
          "name": "stdout"
        }
      ]
    },
    {
      "cell_type": "markdown",
      "metadata": {
        "id": "ilZyho920kCN"
      },
      "source": [
        "## 14. João Papo-de-Pescador, homem de bem, comprou um microcomputador para controlar o rendimento diário de seu trabalho. Toda vez que ele traz um peso de peixes maior que o estabelecido pelo regulamento de pesca do estado de São Paulo (50 quilos) deve pagar uma multa de R$ 4,00 por quilo excedente. João precisa que você faça um programa que leia a variável peso (peso de peixes) e calcule o excesso. Gravar na variável excesso a quantidade de quilos além do limite e na variável multa o valor da multa que João deverá pagar. Imprima os dados do programa com as mensagens adequadas."
      ]
    },
    {
      "cell_type": "code",
      "metadata": {
        "colab": {
          "base_uri": "https://localhost:8080/"
        },
        "id": "36fKhjr21Z_r",
        "outputId": "92cf70d8-4c62-4429-e277-e2014c47ca71"
      },
      "source": [
        "total_pescados = int(input(\"Digite a quantidade de pescados: \"))\n",
        "\n",
        "excedente = max(0, total_pescados - 50) * 4\n",
        "excedente_1 = int(total_pescados > 50) * (( total_pescados - 50)*4)\n",
        "\n",
        "print(f\"O valor da sua multa será de {excedente_1} reais\")\n"
      ],
      "execution_count": null,
      "outputs": [
        {
          "output_type": "stream",
          "text": [
            "Digite a quantidade de pescados: 60\n",
            "O valor da sua multa será de 40 reais\n"
          ],
          "name": "stdout"
        }
      ]
    },
    {
      "cell_type": "markdown",
      "metadata": {
        "id": "RKflTT6amGoU"
      },
      "source": [
        "## 15. Faça um Programa que pergunte quanto você ganha por hora e o número de horas trabalhadas no mês. Calcule e mostre o total do seu salário no referido mês, sabendo-se que são descontados 11% para o Imposto de Renda, 8% para o INSS e 5% para o sindicato, faça um programa que nos dê:\n",
        "1. salário bruto.\n",
        "2. quanto pagou ao INSS.\n",
        "3. quanto pagou ao sindicato.\n",
        "4. o salário líquido.\n",
        "5. calcule os descontos e o salário líquido, conforme a tabela abaixo:\n",
        "\n",
        "\n",
        "```\n",
        "+ Salário Bruto : R$\n",
        "- IR (11%) : R$\n",
        "- INSS (8%) : R$\n",
        "- Sindicato ( 5%) : R$\n",
        "= Salário Liquido : R$\n",
        "```\n",
        "\n"
      ]
    },
    {
      "cell_type": "code",
      "metadata": {
        "colab": {
          "base_uri": "https://localhost:8080/"
        },
        "id": "HhM9vc1smYGH",
        "outputId": "d3098def-d745-4025-bd06-eab5d093092a"
      },
      "source": [
        "valor_por_hora = float(input(\"Quanto que você ganha por hora? \"))\n",
        "quantidade_horas = int(input(\"Quantas horas você trabalhou no mês? \"))\n",
        "\n",
        "salario = valor_por_hora * quantidade_horas\n",
        "ir = salario * 0.11\n",
        "inss = salario * 0.08\n",
        "sindicato = salario * 0.05\n",
        "total_encargos = ir + inss + sindicato\n",
        "salario_liquido = salario - total_encargos\n",
        "\n",
        "print('{:<40}: R$ {:>10,.2f}'.format(f\"Salário Bruto:\", salario))\n",
        "print('{:<40}: R$ {:>10,.2f}'.format(f\"(-) IR (11%)\", ir))\n",
        "print('{:<40}: R$ {:>10,.2f}'.format(\"(-) INSS (8%)\", inss))\n",
        "print('{:<40}: R$ {:>10,.2f}'.format(\"Sindicato (5%)\", sindicato))\n",
        "print('{:<40}: R$ {:>10,.2f}'.format(\"Total de descontos\", total_encargos))\n",
        "print('{:<40}: R$ {:>10,.2f}'.format(\"Salário Liquido\", salario_liquido))"
      ],
      "execution_count": null,
      "outputs": [
        {
          "output_type": "stream",
          "text": [
            "Quanto que você ganha por hora? 100\n",
            "Quantas horas você trabalhou no mês? 10\n",
            "Salário Bruto: (1000.00)                : R$   1,000.00\n",
            "(-) IR (11%)                            : R$     110.00\n",
            "(-) INSS (8%)                           : R$      80.00\n",
            "Sindicato (5%)                          : R$      50.00\n",
            "Total de descontos                      : R$     240.00\n",
            "Salário Liquido                         : R$     760.00\n"
          ],
          "name": "stdout"
        }
      ]
    },
    {
      "cell_type": "markdown",
      "metadata": {
        "id": "rAQswbTIyoij"
      },
      "source": [
        "## 16. Faça um programa para uma loja de tintas. O programa deverá pedir o tamanho em metros quadrados da área a ser pintada. Considere que a cobertura da tinta é de 1 litro para cada 3 metros quadrados e que a tinta é vendida em latas de 18 litros, que custam R$ 80,00. Informe ao usuário a quantidades de latas de tinta a serem compradas e o preço total."
      ]
    },
    {
      "cell_type": "code",
      "metadata": {
        "colab": {
          "base_uri": "https://localhost:8080/"
        },
        "id": "DLf74O2tyqkq",
        "outputId": "352e7db3-ba44-4543-eaac-c3f98d9babda"
      },
      "source": [
        "area_m2 = float(input(\"Insira a área a ser pintada em m2: \"))\n",
        "\n",
        "qtd_latas = int( (area_m2 % (18 * 3)) > 0 ) + int(area_m2 / (18 * 3))\n",
        "valor_total = qtd_latas * 80.00\n",
        "\n",
        "print(\"Quantidade de latas\", qtd_latas)\n",
        "print(\"Preço total R$ %.2f\" % valor_total)"
      ],
      "execution_count": null,
      "outputs": [
        {
          "output_type": "stream",
          "text": [
            "Insira a área a ser pintada em m2: 30\n",
            "Quantidade de latas 1\n",
            "Preço total R$ 80.00\n"
          ],
          "name": "stdout"
        }
      ]
    },
    {
      "cell_type": "code",
      "metadata": {
        "colab": {
          "base_uri": "https://localhost:8080/"
        },
        "id": "OIcUXmBT-GyK",
        "outputId": "7678f9ce-783f-4f94-d0b5-bb6c5ee46b27"
      },
      "source": [
        "def ceil(value):\n",
        "  if (value % 1 != 0):\n",
        "    value = value + 1\n",
        "  return int(value)\n",
        "\n",
        "area_m2 = float(input(\"Insira a área a ser pintada em m2: \"))\n",
        "\n",
        "qtd_latas = ceil(area_m2 / (18 * 3))\n",
        "valor_total = qtd_latas * 80.00\n",
        "\n",
        "print(\"Quantidade de latas\", qtd_latas)\n",
        "print(\"Preço total R$ %.2f\" % valor_total)"
      ],
      "execution_count": null,
      "outputs": [
        {
          "output_type": "stream",
          "text": [
            "Insira a área a ser pintada em m2: 104\n",
            "Quantidade de latas 2\n",
            "Preço total R$ 160.00\n"
          ],
          "name": "stdout"
        }
      ]
    },
    {
      "cell_type": "markdown",
      "metadata": {
        "id": "A03uNvrX1unY"
      },
      "source": [
        "## 17. Faça um Programa para uma loja de tintas. O programa deverá pedir o tamanho em metros quadrados da área a ser pintada. Considere que a cobertura da tinta é de 1 litro para cada 6 metros quadrados e que a tinta é vendida em latas de 18 litros, que custam 80,00 ou em galões de 3,6 litros, que custam R$ 25,00. Informe ao usuário as quantidades de tinta a serem compradas e os respectivos preços em 3 situações:\n",
        "\n",
        "* comprar apenas latas de 18 litros\n",
        "* comprar apenas galões de 3,6 litros\n",
        "* misturar latas e galões, de forma que o desperdício de tinta seja menor. Acrescente 10% de folga e sempre arredonde os valores para cima, isto é, considere latas cheias."
      ]
    },
    {
      "cell_type": "code",
      "metadata": {
        "colab": {
          "base_uri": "https://localhost:8080/"
        },
        "id": "PY-SXO2GrhUl",
        "outputId": "9279aab6-d8cc-49ae-8a89-bd0df4eec0c9"
      },
      "source": [
        "def ceil(value):\n",
        "  return int(int(value % 1 != 0) + value)\n",
        "\n",
        "area_por_lata = 18 * 6\n",
        "area_por_galao = 3.6 * 6\n",
        "\n",
        "area_m2 = float(input(\"Insira a área a ser pintada em m2: \"))\n",
        "\n",
        "# Situação 1\n",
        "qtd_latas = ceil(area_m2 / area_por_lata)\n",
        "valor_total_latas = qtd_latas * 80.00\n",
        "print(\"Quantidade de latas\", qtd_latas)\n",
        "print(\"Preço total R$ %.2f\\n\" % valor_total_latas)\n",
        "\n",
        "# Situação 2\n",
        "qtd_galoes = ceil(area_m2 / area_por_galao)\n",
        "valor_total_galoes = qtd_galoes * 25.00\n",
        "print(\"Quantidade de galoes\", qtd_galoes)\n",
        "print(\"Preço total R$ %.2f\\n\" % valor_total_galoes)\n",
        "\n",
        "# Situacao 3\n",
        "nova_area = area_m2 * 1.1\n",
        "qtd_latas = int(nova_area // area_por_lata)\n",
        "qtd_galoes = ceil((nova_area % area_por_lata) / area_por_galao)\n",
        "valor_total = (qtd_latas * 80) + (qtd_galoes * 25)\n",
        "\n",
        "print(\"Quantidade de latas\", qtd_latas)\n",
        "print(\"Quantidade de galoes\", qtd_galoes)\n",
        "print(\"Preço total R$ %.2f\\n\" % valor_total)"
      ],
      "execution_count": null,
      "outputs": [
        {
          "output_type": "stream",
          "text": [
            "Insira a área a ser pintada em m2: 50\n",
            "Quantidade de latas 1\n",
            "Preço total R$ 80.00\n",
            "\n",
            "Quantidade de galoes 3\n",
            "Preço total R$ 75.00\n",
            "\n",
            "Quantidade de latas 0\n",
            "Quantidade de galoes 3\n",
            "Preço total R$ 75.00\n",
            "\n"
          ],
          "name": "stdout"
        }
      ]
    },
    {
      "cell_type": "markdown",
      "metadata": {
        "id": "XKukh4L4E-iq"
      },
      "source": [
        "## 18. Faça um programa que peça o tamanho de um arquivo para download (em MB) e a velocidade de um link de Internet (em Mbps), calcule e informe o tempo aproximado de download do arquivo usando este link (em minutos)."
      ]
    },
    {
      "cell_type": "code",
      "metadata": {
        "colab": {
          "base_uri": "https://localhost:8080/"
        },
        "id": "QA1MIqF3FDBH",
        "outputId": "d8804e8d-0d73-4af3-84e6-eda2980f33de"
      },
      "source": [
        "tamanho_arquivo = float(input(\"Insira o tamanho do arquivo em MB: \"))\n",
        "velocidade_internet = float(input(\"Insira a velocidade da internet em Mbps: \"))\n",
        "\n",
        "# Tempo de download em segundos\n",
        "tempo_download = tamanho_arquivo / ( velocidade_internet / 8 )\n",
        "conversao = int(round((tempo_download / 60),0))\n",
        "print(\"O tempo de donwload do arquivo é de\", tempo_download, \"segundos\" )\n",
        "print(\"O tempo de donwload do arquivo é de\", conversao, \"minutos\" )"
      ],
      "execution_count": null,
      "outputs": [
        {
          "output_type": "stream",
          "text": [
            "Insira o tamanho do arquivo em MB: 10\n",
            "Insira a velocidade da internet em Mbps: 5\n",
            "O tempo de donwload do arquivo é de 16.0 segundos\n",
            "O tempo de donwload do arquivo é de 0 minutos\n"
          ],
          "name": "stdout"
        }
      ]
    },
    {
      "cell_type": "markdown",
      "metadata": {
        "id": "tq-1SRnVKQF1"
      },
      "source": [
        "# Estrutura de Decisão"
      ]
    },
    {
      "cell_type": "markdown",
      "metadata": {
        "id": "kbG9ntUFK-Jn"
      },
      "source": [
        "## 1. Faça um Programa que peça dois números e imprima o maior deles."
      ]
    },
    {
      "cell_type": "code",
      "metadata": {
        "colab": {
          "base_uri": "https://localhost:8080/"
        },
        "id": "7__HP1-XLApv",
        "outputId": "2e0e38d7-b7b4-46ee-db0f-7a4637e342cf"
      },
      "source": [
        "numero_1 = float(input(\"Digite um número: \"))\n",
        "numero_2 = float(input(\"Digite outro número: \"))\n",
        "\n",
        "if (numero_1 > numero_2):\n",
        "  print(\"O maior número é\", numero_1)\n",
        "elif (numero_2 > numero_1):\n",
        "  print(\"O maior número é\", numero_2)\n",
        "else:\n",
        "  print(\"Os dois números são iguais\")\n",
        "\n",
        "# Outra solução seria usar a função nativa do python chamada \"max\"\n",
        "numeros = [ numero_1, numero_2 ]\n",
        "print(\"O maior número é\", max(numeros))"
      ],
      "execution_count": null,
      "outputs": [
        {
          "output_type": "stream",
          "text": [
            "Digite um número: 5\n",
            "Digite outro número: 10\n",
            "O maior número é 10.0\n",
            "O maior número é 10.0\n"
          ],
          "name": "stdout"
        }
      ]
    },
    {
      "cell_type": "markdown",
      "metadata": {
        "id": "o80K-DrPMTAU"
      },
      "source": [
        "## 2. Faça um Programa que peça um valor e mostre na tela se o valor é positivo ou negativo."
      ]
    },
    {
      "cell_type": "code",
      "metadata": {
        "colab": {
          "base_uri": "https://localhost:8080/"
        },
        "id": "R7KRZCzbMl_-",
        "outputId": "697a54b3-10e2-4727-da46-6be268441bb5"
      },
      "source": [
        "numero_1 = float(input(\"Digite um número: \"))\n",
        "\n",
        "if (numero_1 > 0):\n",
        "  print(\"Positivo\")\n",
        "elif (numero_1 < 0):\n",
        "  print(\"Negativo\")\n",
        "else:\n",
        "  print(\"Zero\")"
      ],
      "execution_count": null,
      "outputs": [
        {
          "output_type": "stream",
          "text": [
            "Digite um número: 0\n",
            "Zero\n"
          ],
          "name": "stdout"
        }
      ]
    },
    {
      "cell_type": "markdown",
      "metadata": {
        "id": "ibDdObnXM_40"
      },
      "source": [
        "## 3. Faça um Programa que verifique se uma letra digitada é \"F\" ou \"M\". Conforme a letra escrever: F - Feminino, M - Masculino, Sexo Inválido."
      ]
    },
    {
      "cell_type": "code",
      "metadata": {
        "id": "ZkTsKcY8NHfg"
      },
      "source": [
        "sexo = input(\"Digite o sexo: \")\n",
        "\n",
        "if (sexo == \"F\"):\n",
        "  print(sexo,\"- Feminino\")\n",
        "elif (sexo == \"M\"):\n",
        "  print(sexo, \"- Masculino\")\n",
        "else:\n",
        "  print(\"Sexo inválido\")"
      ],
      "execution_count": null,
      "outputs": []
    },
    {
      "cell_type": "markdown",
      "metadata": {
        "id": "rSs6w7r2Nu9S"
      },
      "source": [
        "## 4. Faça um Programa que verifique se uma letra digitada é vogal ou consoante."
      ]
    },
    {
      "cell_type": "code",
      "metadata": {
        "colab": {
          "base_uri": "https://localhost:8080/"
        },
        "id": "Ks1jVQ_4Nze1",
        "outputId": "4ce7bae1-8083-4588-93b0-4659099c7620"
      },
      "source": [
        "letra = input(\"Digite uma letra: \")\n",
        "\n",
        "vogais = [ \"a\", \"e\", \"i\", \"o\", \"u\" ]\n",
        "\n",
        "if ( len(letra) == 1 ):\n",
        "  if ( letra.lower() in vogais ):\n",
        "    print(\"É vogal!!\")\n",
        "  else:\n",
        "    print(\"É consoante!!\")\n",
        "else:\n",
        "  print(\"Digite apenas uma letra\")"
      ],
      "execution_count": null,
      "outputs": [
        {
          "output_type": "stream",
          "text": [
            "Digite uma letra: A\n",
            "É vogal!!\n"
          ],
          "name": "stdout"
        }
      ]
    },
    {
      "cell_type": "markdown",
      "metadata": {
        "id": "FaPgNznFPOtm"
      },
      "source": [
        "## 5. Faça um programa para a leitura de duas notas parciais de um aluno. O programa deve calcular a média alcançada por aluno e apresentar:\n",
        "* A mensagem \"Aprovado\", se a média alcançada for maior ou igual a sete;\n",
        "* A mensagem \"Reprovado\", se a média for menor do que sete;\n",
        "* A mensagem \"Aprovado com Distinção\", se a média for igual a dez."
      ]
    },
    {
      "cell_type": "code",
      "metadata": {
        "colab": {
          "base_uri": "https://localhost:8080/"
        },
        "id": "iWXK6g5DPTPD",
        "outputId": "1247f1af-0255-4d85-d5b2-7f380c0ccd8d"
      },
      "source": [
        "nota_1 = float(input(\"Digite a primeira nota: \"))\n",
        "nota_2 = float(input(\"Digite a segunda nota: \"))\n",
        "\n",
        "media = (nota_1 + nota_2) / 2\n",
        "\n",
        "if (media == 10.0):\n",
        "  print(\"Aprovado com distinção\")\n",
        "elif ( media >= 7.0 ):\n",
        "  print(\"Aprovado\")\n",
        "else: \n",
        "  print(\"Reprovado\")"
      ],
      "execution_count": null,
      "outputs": [
        {
          "output_type": "stream",
          "text": [
            "Digite a primeira nota: 5\n",
            "Digite a segunda nota: 5\n",
            "Reprovado\n"
          ],
          "name": "stdout"
        }
      ]
    },
    {
      "cell_type": "markdown",
      "metadata": {
        "id": "FVMbW3A3Qc05"
      },
      "source": [
        "## 6. Faça um Programa que leia três números e mostre o maior deles."
      ]
    },
    {
      "cell_type": "code",
      "metadata": {
        "colab": {
          "base_uri": "https://localhost:8080/"
        },
        "id": "1JicYhKOQjX4",
        "outputId": "5dcd4753-8dca-435b-ef38-5a4c0436e096"
      },
      "source": [
        "numero_1 = float(input(\"Digite um numero: \"))\n",
        "numero_2 = float(input(\"Digite outro numero: \"))\n",
        "numero_3 = float(input(\"Digite mais um numero: \"))\n",
        "\n",
        "maior = numero_1\n",
        "if (numero_2 > maior):\n",
        "    maior = numero_2\n",
        "\n",
        "if (numero_3 > maior):\n",
        "    maior = numero_3\n",
        "\n",
        "print(\"O maior número é\", maior)\n",
        "\n",
        "# Outra solução com a lib nativa do python\n",
        "numeros = [ numero_1, numero_2, numero_3 ]\n",
        "maior = max(numeros)\n",
        "print(\"O maior número é\", maior)\n"
      ],
      "execution_count": null,
      "outputs": [
        {
          "output_type": "stream",
          "text": [
            "Digite um numero: 5\n",
            "Digite outro numero: 5\n",
            "Digite mais um numero: 10\n",
            "O maior número é 10.0\n",
            "O maior número é 10.0\n"
          ],
          "name": "stdout"
        }
      ]
    },
    {
      "cell_type": "markdown",
      "metadata": {
        "id": "zNok3kR8RlBm"
      },
      "source": [
        "## 7. Faça um Programa que leia três números e mostre o maior e o menor deles."
      ]
    },
    {
      "cell_type": "code",
      "metadata": {
        "colab": {
          "base_uri": "https://localhost:8080/"
        },
        "id": "fDDuUixlRtdo",
        "outputId": "3a43109c-6b18-4ab8-c82a-f6c4e08d4273"
      },
      "source": [
        "numero_1 = float(input(\"Digite um numero: \"))\n",
        "numero_2 = float(input(\"Digite outro numero: \"))\n",
        "numero_3 = float(input(\"Digite mais um numero: \"))\n",
        "\n",
        "maior = numero_1\n",
        "if (numero_2 > maior):\n",
        "    maior = numero_2\n",
        "\n",
        "if (numero_3 > maior):\n",
        "    maior = numero_3\n",
        "\n",
        "menor = numero_1\n",
        "if (numero_2 < menor):\n",
        "    menor = numero_2\n",
        "\n",
        "if (numero_3 < menor):\n",
        "    menor = numero_3\n",
        "\n",
        "print(\"O maior número é\", maior)\n",
        "print(\"O menor número é\", menor)\n",
        "\n",
        "# Outra solução com a lib nativa do python\n",
        "numeros = [ numero_1, numero_2, numero_3 ]\n",
        "maior = max(numeros)\n",
        "menor = min(numeros)\n",
        "print(\"\\nLIB DO PYTHON\")\n",
        "print(\"O maior número é\", maior)\n",
        "print(\"O menor número é\", menor)"
      ],
      "execution_count": null,
      "outputs": [
        {
          "output_type": "stream",
          "text": [
            "Digite um numero: 1\n",
            "Digite outro numero: 2\n",
            "Digite mais um numero: 3\n",
            "O maior número é 3.0\n",
            "O menor número é 1.0\n",
            "\n",
            "LIB DO PYTHON\n",
            "O maior número é 3.0\n",
            "O menor número é 1.0\n"
          ],
          "name": "stdout"
        }
      ]
    },
    {
      "cell_type": "markdown",
      "metadata": {
        "id": "5MllIzrm9cjF"
      },
      "source": [
        "## 8. Faça um programa que pergunte o preço de três produtos e informe qual produto você deve comprar, sabendo que a decisão é sempre pelo mais barato."
      ]
    },
    {
      "cell_type": "code",
      "metadata": {
        "colab": {
          "base_uri": "https://localhost:8080/"
        },
        "id": "KVudW7B79g9v",
        "outputId": "1808d044-a782-42e0-b9e5-2701d9b8a814"
      },
      "source": [
        "produto_1 = float(input(\"Digite o primeiro produto: \"))\n",
        "produto_2 = float(input(\"Digite o segundo produto: \"))\n",
        "produto_3 = float(input(\"Digite o terceiro produto: \"))\n",
        "\n",
        "menor = produto_1\n",
        "if (produto_2 < menor):\n",
        "    menor = produto_2\n",
        "\n",
        "if (produto_3 < menor):\n",
        "    menor = produto_3\n",
        "\n",
        "ordem = \"primeiro\"\n",
        "if (menor == produto_1):\n",
        "  ordem = \"primeiro\"\n",
        "elif ( menor == produto_2 ):\n",
        "  ordem = \"segundo\"\n",
        "else:\n",
        "  ordem = \"terceiro\"\n",
        "\n",
        "print(\"Compre o\", ordem, \"produto!\")"
      ],
      "execution_count": null,
      "outputs": [
        {
          "output_type": "stream",
          "text": [
            "Digite o primeiro produto: 10\n",
            "Digite o segundo produto: 5\n",
            "Digite o terceiro produto: 8\n",
            "Compre o segundo produto\n"
          ],
          "name": "stdout"
        }
      ]
    },
    {
      "cell_type": "markdown",
      "metadata": {
        "id": "LOU_4GlG_ajt"
      },
      "source": [
        "## 9. Faça um Programa que leia três números e mostre-os em ordem decrescente."
      ]
    },
    {
      "cell_type": "code",
      "metadata": {
        "colab": {
          "base_uri": "https://localhost:8080/"
        },
        "id": "xVLxXVGu_qUH",
        "outputId": "2e8f4286-3dc2-43d7-b5e7-9ba0a222d8eb"
      },
      "source": [
        "primeiro = float(input('Escreva um número: '))\n",
        "segundo = float(input('Escreva um número: '))\n",
        "terceiro = float(input('Escreva um número: '))\n",
        "\n",
        "if (terceiro > segundo):\n",
        "  aux = terceiro\n",
        "  terceiro = segundo\n",
        "  segundo = aux\n",
        "\n",
        "if (segundo > primeiro):\n",
        "  aux = segundo\n",
        "  segundo = primeiro\n",
        "  primeiro = aux\n",
        "\n",
        "if (terceiro > segundo):\n",
        "  aux = terceiro\n",
        "  terceiro = segundo\n",
        "  segundo = aux\n",
        "\n",
        "print(primeiro,',',segundo,',',terceiro)\n"
      ],
      "execution_count": null,
      "outputs": [
        {
          "output_type": "stream",
          "text": [
            "Escreva um número: 5\n",
            "Escreva um número: 8\n",
            "Escreva um número: 1\n",
            "8.0 , 5.0 , 1.0\n"
          ],
          "name": "stdout"
        }
      ]
    },
    {
      "cell_type": "markdown",
      "metadata": {
        "id": "MJRTDzPqAR7I"
      },
      "source": [
        "## 10. Faça um Programa que pergunte em que turno você estuda. Peça para digitar M-matutino ou V-Vespertino ou N- Noturno. Imprima a mensagem \"Bom Dia!\", \"Boa Tarde!\" ou \"Boa Noite!\" ou \"Valor Inválido!\", conforme o caso."
      ]
    },
    {
      "cell_type": "code",
      "metadata": {
        "colab": {
          "base_uri": "https://localhost:8080/"
        },
        "id": "SLhhhmHgATeG",
        "outputId": "6be09ebd-2294-4fda-f5b7-b8b4fbb93f8e"
      },
      "source": [
        "print(\"Em qual turno você estuda? \\nM - Matutino\\nV - Vespertino\\nN - Noturno\")\n",
        "turno = input(\"Digite o turno que você estuda: \")\n",
        "\n",
        "if ( turno.lower() == \"m\" or turno.lower() == \"matutino\"):\n",
        "  print(\"Bom dia!\")\n",
        "elif ( turno.lower() == \"v\" or turno.lower() == \"verspertino\"):\n",
        "  print(\"Boa tarde!\")\n",
        "elif ( turno.lower() == \"n\" or turno.lower() == \"noturno\"):\n",
        "  print(\"Boa noite!\")\n",
        "else:\n",
        "  print(\"Valor Inválido!\")"
      ],
      "execution_count": null,
      "outputs": [
        {
          "output_type": "stream",
          "text": [
            "Em qual turno você estuda? \n",
            "M - Matutino\n",
            "V - Vespertino\n",
            "N - Noturno\n",
            "Digite o turno que você estuda: N\n",
            "Boa noite!\n"
          ],
          "name": "stdout"
        }
      ]
    },
    {
      "cell_type": "markdown",
      "metadata": {
        "id": "XGDN125OEDAN"
      },
      "source": [
        "## 11. As Organizações Tabajara resolveram dar um aumento de salário aos seus colaboradores e lhe contraram para desenvolver o programa que calculará os reajustes.\n",
        "Faça um programa que recebe o salário de um colaborador e o reajuste segundo o seguinte critério, baseado no salário atual:\n",
        "- salários até 280,00 reais (incluindo) : aumento de 20%\n",
        "- salários entre 280,00 e 700,00 : aumento de 15%\n",
        "- salários entre 700,00 e 1500,00 : aumento de 10%\n",
        "- salários de 1500,00 em diante : aumento de 5% \n",
        "\n",
        "Após o aumento ser realizado, informe na tela:\n",
        "- o salário antes do reajuste;\n",
        "- o percentual de aumento aplicado;\n",
        "- o valor do aumento;\n",
        "- o novo salário, após o aumento."
      ]
    },
    {
      "cell_type": "code",
      "metadata": {
        "colab": {
          "base_uri": "https://localhost:8080/"
        },
        "id": "t4rDMfkOEkht",
        "outputId": "7627882b-e45e-477a-d787-0a9e0d482f70"
      },
      "source": [
        "salario_atual = float(input(\"Digite o valor do salário atual: \"))\n",
        "\n",
        "percentual = 0.0\n",
        "if ( salario_atual < 280.0 ):\n",
        "  percentual = 0.2\n",
        "elif ( salario_atual >= 280.0 and salario_atual < 700.0 ):\n",
        "  percentual = 0.15\n",
        "elif ( salario_atual >= 700.0 and salario_atual < 1500.0 ):\n",
        "  percentual = 0.1\n",
        "else:\n",
        "  percentual = 0.05\n",
        "\n",
        "valor_aumento = salario_atual * percentual\n",
        "novo_salario = salario_atual + valor_aumento\n",
        "\n",
        "print(f\"Salário antes do aumento: R$ {salario_atual:.2f}\")\n",
        "print(f\"Percentual aplicado: {int(percentual*100)}%\")\n",
        "print(f\"Valor do aumento: R$ {valor_aumento:.2f}\")\n",
        "print(f\"Novo salário, após o aumento: R$ {novo_salario:.2f}\")"
      ],
      "execution_count": null,
      "outputs": [
        {
          "output_type": "stream",
          "text": [
            "Digite o valor do salário atual: 3800\n",
            "Salário antes do aumento: R$ 3800.00\n",
            "Percentual aplicado: 5%\n",
            "Valor do aumento: R$ 190.00\n",
            "Novo salário, após o aumento: R$ 3990.00\n"
          ],
          "name": "stdout"
        }
      ]
    },
    {
      "cell_type": "markdown",
      "metadata": {
        "id": "d1uMzgEiJjmB"
      },
      "source": [
        "## 12.Faça um programa para o cálculo de uma folha de pagamento, sabendo que os descontos são do Imposto de Renda, que depende do salário bruto (conforme tabela abaixo) e 3% para o Sindicato e que o FGTS corresponde a 11% do Salário Bruto, mas não é descontado (é a empresa que deposita). O Salário Líquido corresponde ao Salário Bruto menos os descontos. O programa deverá pedir ao usuário o valor da sua hora e a quantidade de horas trabalhadas no mês.\n",
        "Desconto do IR:\n",
        "- Salário Bruto até 900 (inclusive) - isento\n",
        "- Salário Bruto até 1500 (inclusive) - desconto de 5%\n",
        "- Salário Bruto até 2500 (inclusive) - desconto de 10%\n",
        "- Salário Bruto acima de 2500 - desconto de 20% \n",
        "\n",
        "Imprima na tela as informações, dispostas conforme o exemplo abaixo. No exemplo o valor da hora é 5 e a quantidade de hora é 220.\n",
        "\n",
        "\n",
        "\n",
        "```\n",
        "        Salário Bruto: (5 * 220)        : R$ 1100,00\n",
        "        (-) IR (5%)                     : R$   55,00  \n",
        "        (-) INSS ( 10%)                 : R$  110,00\n",
        "        FGTS (11%)                      : R$  121,00\n",
        "        Total de descontos              : R$  165,00\n",
        "        Salário Liquido                 : R$  935,00\n",
        "```\n",
        "\n"
      ]
    },
    {
      "cell_type": "code",
      "metadata": {
        "colab": {
          "base_uri": "https://localhost:8080/"
        },
        "id": "utAslgd6J-GE",
        "outputId": "2b640c1a-fb3d-435a-9609-3a8d9bd05ceb"
      },
      "source": [
        "valor_por_hora = float(input(\"Quanto que você ganha por hora? \"))\n",
        "quantidade_horas = int(input(\"Quantas horas você trabalhou no mês? \"))\n",
        "\n",
        "salario = round(valor_por_hora * quantidade_horas, 2)\n",
        "\n",
        "percentual_ir = 0.0\n",
        "if ( salario > 900 and salario <= 1500.0 ):\n",
        "  percentual_ir = 0.05\n",
        "elif ( salario > 1500.0 and salario < 2500.0 ):\n",
        "  percentual_ir = 0.1\n",
        "else:\n",
        "  percentual_ir = 0.2\n",
        "\n",
        "valor_ir = salario * percentual_ir\n",
        "valor_inss = salario * 0.1\n",
        "valor_fgts = salario * 0.11\n",
        "valor_sindicato = salario * 0.03\n",
        "total_descontos = valor_ir + valor_fgts\n",
        "salario_liquido = salario - total_descontos\n",
        "\n",
        "print('{:<40}: R$ {:>10,.2f}'.format(f\"Salário Bruto: ({int(quantidade_horas)} * {valor_por_hora:.2f})\", salario))\n",
        "print('{:<40}: R$ {:>10,.2f}'.format(f\"(-) IR ({percentual_ir * 100}%)\", valor_ir))\n",
        "print('{:<40}: R$ {:>10,.2f}'.format(\"(-) INSS ( 10%)\", valor_inss))\n",
        "print('{:<40}: R$ {:>10,.2f}'.format(\"FGTS (11%)\", valor_fgts))\n",
        "print('{:<40}: R$ {:>10,.2f}'.format(\"Total de descontos\", total_descontos))\n",
        "print('{:<40}: R$ {:>10,.2f}'.format(\"Salário Liquido\", salario_liquido))\n"
      ],
      "execution_count": null,
      "outputs": [
        {
          "output_type": "stream",
          "text": [
            "Quanto que você ganha por hora? 110\n",
            "Quantas horas você trabalhou no mês? 10\n",
            "Salário Bruto: (10 * 110.00)            : R$   1,100.00\n",
            "(-) IR (5.0%)                           : R$      55.00\n",
            "(-) INSS ( 10%)                         : R$     110.00\n",
            "FGTS (11%)                              : R$     121.00\n",
            "Total de descontos                      : R$     176.00\n",
            "Salário Liquido                         : R$     924.00\n"
          ],
          "name": "stdout"
        }
      ]
    },
    {
      "cell_type": "markdown",
      "metadata": {
        "id": "aW0wKTDGNVJE"
      },
      "source": [
        "## 13. Faça um Programa que leia um número e exiba o dia correspondente da semana. (1-Domingo, 2- Segunda, etc.), se digitar outro valor deve aparecer valor inválido."
      ]
    },
    {
      "cell_type": "code",
      "metadata": {
        "colab": {
          "base_uri": "https://localhost:8080/"
        },
        "id": "DHxB2VOPNie_",
        "outputId": "60614efa-1a3f-412e-82a1-f93ed0559947"
      },
      "source": [
        "day_number = int (input(\"Insira um número >> \"))\n",
        "\n",
        "week_days = { 1: \"Domingo\", 2: \"Segunda\", 3: \"Terça\", 4: \"Quarta\", 5: \"Quinta\", 6: \"Sexta\", 7: \"Sábado\" }\n",
        "\n",
        "week_day = week_days.get(day_number)\n",
        "\n",
        "if (week_day is not None):\n",
        "  print(week_day)\n",
        "else:\n",
        "  print(\"Valor inválido\")"
      ],
      "execution_count": null,
      "outputs": [
        {
          "output_type": "stream",
          "text": [
            "Insira um número >> 9\n",
            "Valor inválido\n"
          ],
          "name": "stdout"
        }
      ]
    },
    {
      "cell_type": "markdown",
      "metadata": {
        "id": "6ao4PBdLP20W"
      },
      "source": [
        "## 14. Faça um programa que lê as duas notas parciais obtidas por um aluno numa disciplina ao longo de um semestre, e calcule a sua média. A atribuição de conceitos obedece à tabela abaixo:\n",
        "![image.png](data:image/png;base64,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)\n",
        "\n",
        "O algoritmo deve mostrar na tela as notas, a média, o conceito correspondente e a mensagem “APROVADO” se o conceito for A, B ou C ou “REPROVADO” se o conceito for D ou E."
      ]
    },
    {
      "cell_type": "code",
      "metadata": {
        "colab": {
          "base_uri": "https://localhost:8080/"
        },
        "id": "TWlpbjSKQEVX",
        "outputId": "57d56aca-d1a9-4e5f-9d17-a57ab920581a"
      },
      "source": [
        "nota_1 = float (input(\"Nota parcial 1 >> \"))\n",
        "nota_2 = float (input(\"Nota parcial 2 >> \"))\n",
        "\n",
        "media = (nota_1 + nota_2) / 2\n",
        "\n",
        "if ( media < 4 ):\n",
        "  print(f\"REPROVADO\\nE: {round(media, 1)}\")\n",
        "elif ( media >= 4 and media < 6 ):\n",
        "  print(f\"REPROVADO\\nD: {round(media, 1)}\")\n",
        "elif ( media >= 6 and media < 7.5):\n",
        "  print(f\"APROVADO\\nC: {round(media, 1)}\")\n",
        "elif ( media >= 7.5 and media < 9):\n",
        "  print(f\"APROVADO\\nB: {round(media, 1)}\")\n",
        "else:\n",
        "  print(f\"APROVADO\\nA: {round(media, 1)}\")"
      ],
      "execution_count": null,
      "outputs": [
        {
          "output_type": "stream",
          "text": [
            "Nota parcial 1 >> 10\n",
            "Nota parcial 2 >> 10\n",
            "APROVADO\n",
            "A: 10.0\n"
          ],
          "name": "stdout"
        }
      ]
    },
    {
      "cell_type": "markdown",
      "metadata": {
        "id": "dAjrTghaUWn_"
      },
      "source": [
        "## 15. Faça um Programa que peça os 3 lados de um triângulo. O programa deverá informar se os valores podem ser um triângulo. Indique, caso os lados formem um triângulo, se o mesmo é: equilátero, isósceles ou escaleno.\n",
        "- Três lados formam um triângulo quando a soma de quaisquer dois lados for maior que o terceiro;\n",
        "- Triângulo Equilátero: três lados iguais;\n",
        "- Triângulo Isósceles: quaisquer dois lados iguais;\n",
        "- Triângulo Escaleno: três lados diferentes;"
      ]
    },
    {
      "cell_type": "code",
      "metadata": {
        "colab": {
          "base_uri": "https://localhost:8080/"
        },
        "id": "BLG-ompBVKc1",
        "outputId": "1102cec1-1ee0-45a1-a536-71ce4d3b60a0"
      },
      "source": [
        "l1 = float ( input(\"Lado 1 >> \") )\n",
        "l2 = float ( input(\"Lado 2 >> \") )\n",
        "l3 = float ( input(\"Lado 3 >> \") )\n",
        "\n",
        "is_triangle = bool((l1 + l2) >= l3)\n",
        "\n",
        "if (is_triangle):\n",
        "  if ( l1 == l2 and l1 == l3 and l2 == l3):\n",
        "    print(\"Equilatero\")\n",
        "  elif ( l1 == l2 or l1 == l3 or l2 == l3 ):\n",
        "    print(\"Isósceles\")\n",
        "  else:\n",
        "    print(\"Escaleno\")\n",
        "else:\n",
        "  print(\"Não é um triangulo\")"
      ],
      "execution_count": null,
      "outputs": [
        {
          "output_type": "stream",
          "text": [
            "Lado 1 >> 1\n",
            "Lado 2 >> 2\n",
            "Lado 3 >> 3\n",
            "Escaleno\n"
          ],
          "name": "stdout"
        }
      ]
    },
    {
      "cell_type": "markdown",
      "metadata": {
        "id": "EjgNlziHZfy1"
      },
      "source": [
        "## 16. Faça um programa que calcule as raízes de uma equação do segundo grau, na forma ax2 + bx + c. O programa deverá pedir os valores de a, b e c e fazer as consistências, informando ao usuário nas seguintes situações:\n",
        "- Se o usuário informar o valor de A igual a zero, a equação não é do segundo grau e o programa não deve fazer pedir os demais valores, sendo encerrado;\n",
        "- Se o delta calculado for negativo, a equação não possui raizes reais. Informe ao usuário e encerre o programa;\n",
        "- Se o delta calculado for igual a zero a equação possui apenas uma raiz real; informe-a ao usuário;\n",
        "- Se o delta for positivo, a equação possui duas raiz reais; informe-as ao usuário;"
      ]
    },
    {
      "cell_type": "code",
      "metadata": {
        "colab": {
          "base_uri": "https://localhost:8080/"
        },
        "id": "fiYcZDO3Z-G9",
        "outputId": "4523db0a-140d-459f-a658-4459f033f55d"
      },
      "source": [
        "a = float ( input(\"A >> \") )\n",
        "\n",
        "if ( a != 0 ):\n",
        "  b = float ( input(\"B >> \") )\n",
        "  c = float ( input(\"C >> \") )\n",
        "\n",
        "  delta = (b ** 2) - (4 * a * c)\n",
        "\n",
        "  if ( delta > 0 ):\n",
        "    x1 = ( (-1 * b) + ( delta ** (1/2) ) ) / (2 * a)\n",
        "    x2 = ( (-1 * b) - ( delta ** (1/2) ) ) / (2 * a)\n",
        "\n",
        "    print(\"A equação possui duas raízes reais\")\n",
        "    print(\"Raízes\", x1, x2)\n",
        "\n",
        "  elif ( delta == 0 ):\n",
        "    x = (-1 * b) / (2 * a)\n",
        "    print(\"A equação possui uma raíz real\")\n",
        "    print(\"Raíz\", x1)\n",
        "  else:\n",
        "    print(\"Equação não possui raízes reais\")\n",
        "else:\n",
        "  print(\" Insira somente valores diferentes de 0 \")"
      ],
      "execution_count": null,
      "outputs": [
        {
          "output_type": "stream",
          "text": [
            "A >> 1\n",
            "B >> -1\n",
            "C >> -12\n",
            "A equação possui duas raízes reais\n",
            "Raízes 4.0 -3.0\n"
          ],
          "name": "stdout"
        }
      ]
    },
    {
      "cell_type": "markdown",
      "metadata": {
        "id": "rwYL9FWxgK2l"
      },
      "source": [
        "## 17. Faça um Programa que peça um número correspondente a um determinado ano e em seguida informe se este ano é ou não bissexto."
      ]
    },
    {
      "cell_type": "code",
      "metadata": {
        "colab": {
          "base_uri": "https://localhost:8080/"
        },
        "id": "Kammn6KIgOqy",
        "outputId": "cb32b23c-a0ea-4d12-8139-716b8c9fc6e4"
      },
      "source": [
        "ano = int ( input(\"Informe um ano >> \") )\n",
        "\n",
        "if ( (ano % 4 == 0 or ano % 400 == 0) and ano % 100 != 0 ):\n",
        "  print(\"Bissexto\")\n",
        "else:\n",
        "  print(\"Não é bissexto\")"
      ],
      "execution_count": null,
      "outputs": [
        {
          "output_type": "stream",
          "text": [
            "Informe um ano >> 2016\n",
            "Bissexto\n"
          ],
          "name": "stdout"
        }
      ]
    },
    {
      "cell_type": "markdown",
      "metadata": {
        "id": "TUKs1whZiOLR"
      },
      "source": [
        "## 18. Faça um Programa que peça uma data no formato dd/mm/aaaa e determine se a mesma é uma data válida."
      ]
    },
    {
      "cell_type": "code",
      "metadata": {
        "id": "HRcbN3mCibAs"
      },
      "source": [
        "date = input(\"Insira uma data dd/mm/aaaa >> \")\n",
        "\n",
        "day, month, year = date.split(\"/\")\n",
        "\n",
        "if ( (int(day) >= 1 and int(day) <= 31) and (int(month) >= 1 and int(month) <= 12) and int(year) >= 1):\n",
        "  print(\"Data válida\")"
      ],
      "execution_count": null,
      "outputs": []
    },
    {
      "cell_type": "markdown",
      "metadata": {
        "id": "gPO3_e8QyPSq"
      },
      "source": [
        "## 19. Faça um Programa que leia um número inteiro menor que 1000 e imprima a quantidade de centenas, dezenas e unidades do mesmo. Observando os termos no plural a colocação do \"e\", da vírgula entre outros. Exemplo:\n",
        "- 326 = 3 centenas, 2 dezenas e 6 unidades\n",
        "- 12 = 1 dezena e 2 unidades Testar com: 326, 300, 100, 320, 310,305, 301, 101, 311, 111, 25, 20, 10, 21, 11, 1, 7 e 16"
      ]
    },
    {
      "cell_type": "code",
      "metadata": {
        "colab": {
          "base_uri": "https://localhost:8080/"
        },
        "id": "94ycB5koyYbu",
        "outputId": "3a05557c-48e6-4277-cacd-6282c1a29681"
      },
      "source": [
        "n = int(input(\"Inisira um número menor que 1000 >> \"))\n",
        "\n",
        "c = n // 100;\n",
        "d = ((n - (c*100)) // 10);\n",
        "u = (n - (c * 100 + d * 10));\n",
        "\n",
        "textU = int(u != 0) * (str(u) + (\" unidades\" if u > 1 else \" unidade\" ))\n",
        "textD = int(len(str(n)) > 1) * (str(d) + (\" dezenas\" if d > 1 else \" dezena\" ) + (\" e \" if len(str(n)) >= 2 and u != 0 else \"\" ) )\n",
        "textC = int(len(str(n)) > 2) * (str(c) + (\" centenas\" if c > 1 else \" centena\" ) + (\", \" if len(str(n)) == 3 and u != 0 else \" e \" ) )\n",
        "\n",
        "print(textC + textD + textU)"
      ],
      "execution_count": null,
      "outputs": [
        {
          "output_type": "stream",
          "text": [
            "Inisira um número menor que 1000 >> 302\n",
            "3 centenas, 0 dezena e 2 unidades\n"
          ],
          "name": "stdout"
        }
      ]
    },
    {
      "cell_type": "markdown",
      "metadata": {
        "id": "FxKqQJQ88UBU"
      },
      "source": [
        "##21. Faça um Programa para um caixa eletrônico. O programa deverá perguntar ao usuário a valor do saque e depois informar quantas notas de cada valor serão fornecidas. As notas disponíveis serão as de 1, 5, 10, 50 e 100 reais. O valor mínimo é de 10 reais e o máximo de 600 reais. O programa não deve se preocupar com a quantidade de notas existentes na máquina.\n",
        "- Exemplo 1: Para sacar a quantia de 256 reais, o programa fornece duas notas de 100, uma nota de 50, uma nota de 5 e uma nota de 1;\n",
        "- Exemplo 2: Para sacar a quantia de 399 reais, o programa fornece três notas de 100, uma nota de 50, quatro notas de 10, uma nota de 5 e quatro notas de 1."
      ]
    },
    {
      "cell_type": "code",
      "metadata": {
        "colab": {
          "base_uri": "https://localhost:8080/"
        },
        "id": "UxdnTc5J8jpa",
        "outputId": "15f26b17-964e-4033-9d81-1c268086f41d"
      },
      "source": [
        "saque = int(input(\"Insira o valor do saque >> \"))\n",
        "\n",
        "cem = int(saque/100)\n",
        "saque = saque % 100\n",
        "    \n",
        "cinquenta = int(saque/50)\n",
        "saque = saque % 50\n",
        "\n",
        "dez = int(saque/10)\n",
        "saque = saque % 10\n",
        "\n",
        "cinco = int(saque/5)\n",
        "saque = saque % 5\n",
        "\n",
        "um = int(saque/1)\n",
        "saque = saque % 1\n",
        "\n",
        "print('{} Nota(s) R$ 100,00.'.format(cem))\n",
        "print('{} Notas(s) R$ 50,00.'.format(cinquenta))\n",
        "print('{} Notas(s) R$ 10,00.'.format(dez))\n",
        "print('{} Notas(s) R$ 5,00.'.format(cinco))\n",
        "print('{} Notas(s) R$ 1,00.'.format(um))"
      ],
      "execution_count": null,
      "outputs": [
        {
          "output_type": "stream",
          "text": [
            "Insira o valor do saque >> 256\n",
            "2 Nota(s) R$ 100,00.\n",
            "1 Notas(s) R$ 50,00.\n",
            "0 Notas(s) R$ 10,00.\n",
            "1 Notas(s) R$ 5,00.\n",
            "1 Notas(s) R$ 1,00.\n"
          ],
          "name": "stdout"
        }
      ]
    },
    {
      "cell_type": "markdown",
      "metadata": {
        "id": "Br6p7_SPtCJ4"
      },
      "source": [
        "## 25. Faça um programa que faça 5 perguntas para uma pessoa sobre um crime. As perguntas são:\n",
        "- \"Telefonou para a vítima?\"\n",
        "- \"Esteve no local do crime?\"\n",
        "- \"Mora perto da vítima?\"\n",
        "- \"Devia para a vítima?\"\n",
        "- \"Já trabalhou com a vítima?\" \n",
        "\n",
        "O programa deve no final emitir uma classificação sobre a participação da pessoa no crime. Se a pessoa responder positivamente a 2 questões ela deve ser classificada como \"Suspeita\", entre 3 e 4 como \"Cúmplice\" e 5 como \"Assassino\". Caso contrário, ele será classificado como \"Inocente\"."
      ]
    },
    {
      "cell_type": "code",
      "metadata": {
        "colab": {
          "base_uri": "https://localhost:8080/"
        },
        "id": "bcoUUMWivTyK",
        "outputId": "9a16569d-d894-411c-d219-e6033c654c47"
      },
      "source": [
        "question_1 = False if input(\"Telefonou para a vítima? \").lower() == 'n' else True\n",
        "question_2 = False if input(\"Esteve no local do crime? \").lower() == 'n' else True\n",
        "question_3 = False if input(\"Mora perto da vítima? \").lower() == 'n' else True\n",
        "question_4 = False if input(\"Devia para a vítima? \").lower() == 'n' else True\n",
        "question_5 = False if input(\"Já trabalhou com a vítima? \").lower() == 'n' else True\n",
        "\n",
        "quantity_true = question_1 + question_2 + question_3 + question_4 + question_5\n",
        "\n",
        "if ( quantity_true == 2 ):\n",
        "  print(\"Suspeita\")\n",
        "elif ( quantity_true == 3 or quantity_true == 4):\n",
        "  print(\"Cúmplice\")\n",
        "elif (quantity_true == 5):\n",
        "  print(\"Assassino\")\n",
        "else: \n",
        "  print(\"Inocente\")\n"
      ],
      "execution_count": null,
      "outputs": [
        {
          "output_type": "stream",
          "text": [
            "Telefonou para a vítima? s\n",
            "Esteve no local do crime? s\n",
            "Mora perto da vítima? s\n",
            "Devia para a vítima? n\n",
            "Já trabalhou com a vítima? n\n",
            "Cúmplice\n"
          ],
          "name": "stdout"
        }
      ]
    },
    {
      "cell_type": "markdown",
      "metadata": {
        "id": "O913h0Eyq3-r"
      },
      "source": [
        ""
      ]
    },
    {
      "cell_type": "markdown",
      "metadata": {
        "id": "AR-DoQRqq5Mb"
      },
      "source": [
        "# Lista Sequencial"
      ]
    },
    {
      "cell_type": "markdown",
      "metadata": {
        "id": "WzHZ6aQSq-_T"
      },
      "source": [
        "##4. Faça um Programa que leia um vetor de 10 caracteres, e diga quantas consoantes foram lidas. Imprima as consoantes."
      ]
    },
    {
      "cell_type": "code",
      "metadata": {
        "id": "B8BsKMpDrJY4"
      },
      "source": [
        "vowel = [\"a\", \"e\", \"i\", \"o\", \"u\"]\n",
        "characters = []\n",
        "\n",
        "for _ in range(10):\n",
        "  character = input(\"Digite apenas uma letra >> \")\n",
        "\n",
        "  if (len(character) > 1 or not character.isalpha()):\n",
        "    characters = []\n",
        "    break\n",
        "\n",
        "  characters.append(character.lower())\n",
        "\n",
        "if (len(characters) > 0):\n",
        "  consonants = [ character for character in characters if character not in vowel ]\n",
        "\n",
        "  print(\"\\nQuantidade de consoantes:\", len(consonants))\n",
        "  print(consonants)\n",
        "else:\n",
        "  print(\"Digite apenas uma letra\")"
      ],
      "execution_count": null,
      "outputs": []
    },
    {
      "cell_type": "markdown",
      "metadata": {
        "id": "0ZEVZz64so3p"
      },
      "source": [
        "## 5. Faça um Programa que leia 20 números inteiros e armazene-os num vetor. Armazene os números pares no vetor PAR e os números IMPARES no vetor impar. Imprima os três vetores."
      ]
    },
    {
      "cell_type": "code",
      "metadata": {
        "colab": {
          "base_uri": "https://localhost:8080/"
        },
        "id": "uwgg74-4syyx",
        "outputId": "ea99c21e-25c0-4b6c-bc48-b973a35b2d0c"
      },
      "source": [
        "import random\n",
        "\n",
        "numbers = []\n",
        "even = []\n",
        "odd = []\n",
        "for _ in range(20):\n",
        "  # number = random.randint(0, 1000)\n",
        "  number = int(input(\"Digite um numero inteiro >> \"))\n",
        "  numbers.append(number)\n",
        "\n",
        "  if ((number % 2) == 0):\n",
        "    even.append(number)\n",
        "  else:\n",
        "    odd.append(number)\n",
        "\n",
        "print(\"\\nVETORES\")\n",
        "print(numbers)\n",
        "print(even)\n",
        "print(odd)"
      ],
      "execution_count": null,
      "outputs": [
        {
          "output_type": "stream",
          "text": [
            "Digite apenas um caracter >> 1\n",
            "Digite apenas um caracter >> 2\n",
            "Digite apenas um caracter >> 3\n",
            "Digite apenas um caracter >> 4\n",
            "Digite apenas um caracter >> 5\n",
            "[1, 2, 3, 4, 5]\n",
            "[2, 4]\n",
            "[1, 3, 5]\n"
          ],
          "name": "stdout"
        }
      ]
    },
    {
      "cell_type": "markdown",
      "metadata": {
        "id": "fLzPePfHvdfk"
      },
      "source": [
        "## 6. Faça um Programa que peça as quatro notas de 10 alunos, calcule e armazene num vetor a média de cada aluno, imprima o número de alunos com média maior ou igual a 7.0."
      ]
    },
    {
      "cell_type": "code",
      "metadata": {
        "colab": {
          "base_uri": "https://localhost:8080/"
        },
        "id": "Se3uCAMFvyXm",
        "outputId": "24fced25-d5d3-407f-d757-45020044dc2a"
      },
      "source": [
        "medias = []\n",
        "notas_acima_media = []\n",
        "for i in range(10):\n",
        "  print(f\"Insira as notas do aluno {i + 1}\")\n",
        "  n1 = float(input(\"Nota 1 >> \"))\n",
        "  n2 = float(input(\"Nota 2 >> \"))\n",
        "  n3 = float(input(\"Nota 3 >> \"))\n",
        "  n4 = float(input(\"Nota 4 >> \"))\n",
        "\n",
        "  media = (n1 + n2 + n3 + n4) / 4\n",
        "  medias.append(media)\n",
        "\n",
        "  if (media >= 7 ):\n",
        "    notas_acima_media.append(media)\n",
        "\n",
        "  print(\"\")\n",
        "\n",
        "print(\"Quantidade de alunos acima da media:\", len(notas_acima_media))"
      ],
      "execution_count": null,
      "outputs": [
        {
          "output_type": "stream",
          "text": [
            "Insira as notas do aluno 1\n",
            "Nota 1 >> 10\n",
            "Nota 2 >> 10\n",
            "Nota 3 >> 10\n",
            "Nota 4 >> 10\n",
            "\n",
            "Insira as notas do aluno 2\n",
            "Nota 1 >> 6\n",
            "Nota 2 >> 6\n",
            "Nota 3 >> 6\n",
            "Nota 4 >> 6\n",
            "\n",
            "Quantidade de alunos acima da media: 1\n"
          ],
          "name": "stdout"
        }
      ]
    },
    {
      "cell_type": "markdown",
      "metadata": {
        "id": "HNjvIDVlwo93"
      },
      "source": [
        "# Lista do professor\n",
        "\n"
      ]
    },
    {
      "cell_type": "markdown",
      "metadata": {
        "id": "WOLxrCrAzP86"
      },
      "source": [
        "## Lista de Exercícios 09/04\n",
        "\n",
        "https://classroom.google.com/u/1/c/Mjc0NDExOTg1MjQ3/m/MzIyMTQ4ODkyMDc1/details"
      ]
    },
    {
      "cell_type": "markdown",
      "metadata": {
        "id": "iIu_8-nrwxFk"
      },
      "source": [
        "### 1 - Escrever um algoritmo que lê as 3 notas obtidas por um aluno nas 3 verificações e a média dos exercícios que fazem parte da avaliação. Calcular a média de aproveitamento, usando a fórmula:\n",
        "\n",
        "> MA = (Nota1 + Nota2 x 2 + Nota3 x 3 + ME )/7"
      ]
    },
    {
      "cell_type": "code",
      "metadata": {
        "colab": {
          "base_uri": "https://localhost:8080/"
        },
        "id": "gpDOHd9bw6Vh",
        "outputId": "a4b5c187-2ffb-4f2c-ac2f-32a7c4586b10"
      },
      "source": [
        "nota_1 = float(input(\"Nota 1 >> \"))\n",
        "nota_2 = float(input(\"Nota 2 >> \"))\n",
        "nota_3 = float(input(\"Nota 3 >> \"))\n",
        "media_exercicios = float(input(\"Média de exercícios >> \"))\n",
        "\n",
        "media_aproveitamento = (nota_1 + (nota_2 * 2) + (nota_3 * 3) + media_exercicios) / 7\n",
        "\n",
        "print(\"A média de aproveitamento é\", round(media_aproveitamento, 2))"
      ],
      "execution_count": null,
      "outputs": [
        {
          "output_type": "stream",
          "text": [
            "Nota 1 >> 5\n",
            "Nota 2 >> 7\n",
            "Nota 3 >> 10\n",
            "Média de exercícios >> 10\n",
            "A média de aproveitamento é 8.43\n"
          ],
          "name": "stdout"
        }
      ]
    },
    {
      "cell_type": "markdown",
      "metadata": {
        "id": "VzmlJ-1m27Jj"
      },
      "source": [
        ""
      ]
    },
    {
      "cell_type": "markdown",
      "metadata": {
        "id": "bOby-ovMyTbE"
      },
      "source": [
        "### 2 - Construa um algoritmo que, tendo como dados de entrada dois pontos quaisquer no plano, P(x1,y1) e P(x2,y2), escreva a distância entre eles. A fórmula que efetua tal cálculo é:\n",
        "\n",
        "![Screenshot (1).png](data:image/png;base64,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)\n"
      ]
    },
    {
      "cell_type": "code",
      "metadata": {
        "colab": {
          "base_uri": "https://localhost:8080/"
        },
        "id": "iptv_dg5ycTd",
        "outputId": "44b74c9f-5397-4d2b-da83-79fac8916f36"
      },
      "source": [
        "x1 = float(input(\"x1 >> \"))\n",
        "y1 = float(input(\"y1 >> \"))\n",
        "\n",
        "x2 = float(input(\"x2 >> \"))\n",
        "y2 = float(input(\"y2 >> \"))\n",
        "\n",
        "distancia_1 = x2 - x1\n",
        "distancia_2 = y2 - y1\n",
        "\n",
        "distancia_euclidiana = (distancia_1**2 + distancia_2**2) ** (1/2)\n",
        "\n",
        "print(round(distancia_euclidiana, 2))"
      ],
      "execution_count": null,
      "outputs": [
        {
          "output_type": "stream",
          "text": [
            "x1 >> 0\n",
            "y1 >> 0\n",
            "x2 >> 10\n",
            "y2 >> 10\n",
            "14.142135623730951\n"
          ],
          "name": "stdout"
        }
      ]
    },
    {
      "cell_type": "markdown",
      "metadata": {
        "id": "sel3YEkg0tBW"
      },
      "source": [
        "### 3 - Escreva um algoritmo que leia três números inteiros e positivos (A, B, C) e calcule a seguinte expressão:\n",
        "\n",
        "![image.png](data:image/png;base64,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)"
      ]
    },
    {
      "cell_type": "code",
      "metadata": {
        "id": "JrODRSYT0z7u"
      },
      "source": [
        "a = int(input(\"A >> \"))\n",
        "b = int(input(\"B >> \"))\n",
        "c = int(input(\"C >> \"))\n",
        "\n",
        "r = (a + b) ** 2\n",
        "s = (b + c) ** 2\n",
        "\n",
        "d = (r + s) / 2\n",
        "\n",
        "print(\"O resultado é\", round(d, 2))"
      ],
      "execution_count": null,
      "outputs": []
    },
    {
      "cell_type": "markdown",
      "metadata": {
        "id": "_a5KMakU2UOf"
      },
      "source": [
        "### 4 - O custo ao consumidor de um carro novo é a soma do custo de fábrica com a percentagem do distribuidor e dos impostos (aplicados ao custo de fábrica). Supondo que a percentagem do distribuidor seja de 28% e os impostos de 45%, escrever um algoritmo que leia o custo de fábrica de um carro e escreva o custo ao consumidor."
      ]
    },
    {
      "cell_type": "code",
      "metadata": {
        "colab": {
          "base_uri": "https://localhost:8080/"
        },
        "id": "zFea41h62hyc",
        "outputId": "f4a9b8f3-150b-4856-9b24-b529ede9f238"
      },
      "source": [
        "custo_fabrica = float(input(\"Digite o custo de fábrica >> \"))\n",
        "\n",
        "custo_consumidor = custo_fabrica + (custo_fabrica * 0.28) + (custo_fabrica * 0.45)\n",
        "custo_consumidor_novo = custo_fabrica * 1.73\n",
        "\n",
        "print(\"Custo do consumidor R$ %.2f\" % round(custo_consumidor, 2))"
      ],
      "execution_count": null,
      "outputs": [
        {
          "output_type": "stream",
          "text": [
            "Digite o custo de fábrica >> 30000\n",
            "Custo do consumidor R$ 51900.00\n"
          ],
          "name": "stdout"
        }
      ]
    },
    {
      "cell_type": "markdown",
      "metadata": {
        "id": "3BBo3gK22bZ5"
      },
      "source": [
        "### 5 - Elaborar um algoritmo que lê 2 valores a e b e os escreve com a mensagem: \"São múltiplos\" ou \"Não são múltiplos\"."
      ]
    },
    {
      "cell_type": "code",
      "metadata": {
        "colab": {
          "base_uri": "https://localhost:8080/"
        },
        "id": "rb_G3Huv4Gp-",
        "outputId": "85f8d001-e415-40a5-c78e-d560113e505c"
      },
      "source": [
        "a = int(input(\"A >> \"))\n",
        "b = int(input(\"B >> \"))\n",
        "\n",
        "sao_multiplos = bool(( a % b == 0) or (b % a == 0))\n",
        "\n",
        "print(str(sao_multiplos).replace(\"True\", \"São\").replace(\"False\", \"Não são\"), \"múltiplos\")"
      ],
      "execution_count": null,
      "outputs": [
        {
          "output_type": "stream",
          "text": [
            "A >> 5\n",
            "B >> 2\n",
            "Não são multiplos\n"
          ],
          "name": "stdout"
        }
      ]
    },
    {
      "cell_type": "markdown",
      "metadata": {
        "id": "JHAJ1Nsl0DqL"
      },
      "source": [
        "## Lista de Revisão de Lógica\n",
        "\n",
        "https://classroom.google.com/u/1/c/Mjc0NDExOTg1MjQ3/a/MzIzMzU2OTQ3MzU0/details"
      ]
    },
    {
      "cell_type": "markdown",
      "metadata": {
        "id": "sWs7zK6l0LVY"
      },
      "source": [
        "### Questão 1\n",
        "\n",
        "> (p ^ q) v (r v q v p) ^ ~((p ^ q) ^ ~(p v r))"
      ]
    },
    {
      "cell_type": "markdown",
      "metadata": {
        "id": "JiBIRTe_0sbf"
      },
      "source": [
        "#### 1. Tabela verdade\n",
        "\n",
        "![image.png](data:image/png;base64,iVBORw0KGgoAAAANSUhEUgAABKEAAADYCAYAAAAzpfA9AAAgAElEQVR4Ae2d668UX1b++Qt4yyvefCfhhS98QUJCQkgIiSHkxJwYozFEo8FIwKABjeIYlYuIijNilNFxHI7hkoGoeEGiIYqgSGQQJ17RKIwww8ULKsNlEAT6l2czq391undV773X3l2rqp5Kzunuqn1Z+7OevXbX6urqFSNj25e+/GVjFv1/cyzbBiut2/f/SQ7nGX0yHF/Pe6TU1ryJd6M/6qIbfqKV0wSo3Wkm3FOWADVXli9bJwESIAEfAcTeFb4Dbe6zvCBYtg0+s25fm7pqq2/6pC3y/e+X2uq/j1NGSF2kUGMdCwSoXQteGJYN1Nyw/M3RkgAJ2CCA2MskVIQvrC9W1u2LQN2bovRJb1xpbiDUljmXmDCIujDhBhqRQIDaTYDGKioC1JwKHyuTAAmQQBIBxF4moSLQWV+srNsXgbo3RemT3rjS3ECoLXMuMWEQdWHCDTQigQC1mwCNVVQEqDkVPlYmARIggSQCiL1MQkWgs75YWbcvBPW7d+9G//RP/zT653/+55Di5sv0wSfmIQ/UwD5q61//9V9Hd+/eNePR//zP/3Tx6M2bN2ZsmmVIW7rw+e758+eO31e+8pVZZgcdf/HihWvvwYMHQeVnFXr//r1r7+HDh7OKjo+XXKNy8xobnfikjk+peZGiXZ/uEofrqt27d89p4tWrV5pmxnVLsRp38LUnuTlMtm/99f3790f/8i//Em1miuaiO/FUyD3Xc8dGmJzK1DPc2l1v37518+3x48e1Zfp8oC7GNo255Br07//+784f//d//zc2IbePStifotXcsV6A5eYl7WoefXxevnzpfP306VNN08l1EXuZhIrA19ZiFWqidftCxvEHf/AHoxUrVri/v/qrvwqpYrpMH3xiGvCAjeubtpB8wtz/xm/8RjNePXPmjLPpU5/6lBmbZhnShi7qfLdjxw7H79atW7PMDjq+b98+197KlStHX/3qV4PqNBXCCcBHH31stGrVquD2Sq5RuXk1jT3kWB2fUvMiVrt1ugsZm6/Mf/zHfzh9IQ79wi/8gq9I9L5SrKqG5OZQbbsrz7/ne77H+e5v/uZvokyO1VxU4w2Fc8/13LERpqcybRj21KHPfe5zzm/Hjh2bOjaEHXUxtmnspdYgJJ7WrFkzwvr6v//7v2MTcvuohP2xWi0R6wVYbl7SrubRxwcfXGCt+5Zv+RZN08l1EXuZhIrA19ZiFWqidftCxrFp06bxm8Dv+I7vCKliukwffGIa8ICN65u2vvM7v9PN/d/4jd8w49Vnz545m5CkwKdGXdja0IXPd7iiFW9w8KY2x/Y///M/47UB7Z44cSJHs6ODBw+6dn/pl34pqL1Sa1RuXkGDCSjk41NqXsRq16e7gCHVFjl06NBYY6tXrx5VrwaorTTjQClW1W5zc6i23ZXnV65ccb77pm/6piiTYzUX1XhN4dxzvVRsTGVaM+yp3a9fv3YfAiCex1yNOtVQx3f4YmzTkEqtQb/+67/u5tDu3bvH3ZfwUQn7Y7VaItYDWgleY2contTx2bhxo/P5F77wBUXraVURe5mEimDXxmIVYV7nfx3v85///PgNIBYl/H3pS1+KQWCurHXNmANGg4IJ9Elbf/d3fzee+9aSPd/+7d/ubOvKJ7Xz1kWd7771W7/Vcfvpn/7pYE03FfzEJz4x1gjWBiS3cFm/dpMTQnz6i6+0NG0l16jcvJrGEXOsjk+JeRGj3TrdxYytWhZxBxqQ9x54zJUQL8FKbM/NQdrt2iO+AoMPC+C3mCsvYzSXi0nuuV4qNqYyDeX06U9/2vnrG77hG0Kr9LJcXYz1DbbUGoSvH8v8uX79+rjr3D4qZX+MVkvG+ty8xo5QPqnj89nPftbNwTa+gYDYm5SEOnny5GjdunWjH/zBHxz92q/92ujrv/7r3eL9zd/8zepstnZBwJvSn/u5nxtfUrht27bR+fPnnb0I/JpNa9tk35/5zGecXT/yIz8y2r59u2OIT3FweWbKltu+WBtg9/r1692Y/uiP/mgE3nhT93Vf93VBn1rLwrxnz54RFiW8mQCbpq2kv5v6DT3Wtk9C7Zwst3PnTufHX/7lX3Y+hR99J5MLCwuu3OQxXPqJGPHxj398sunxa1ySizLw8+bNm0fI1OM1/v7rv/5rXE6eXLx4cXz83/7t32T3CIua1PPdE0Kry3FHxp50VVs+jNAJdPDd3/3d48Pf933f5/yKT+ew1uDKBLxJ+qEf+qFll4qPK4xGo1SN/OVf/qXra8uWLSN89Q56RyzD5cpy6Tj6To3NVRtLP5+3Lny+k6s/4NMvfvGLbsj4mgzmKT55+/M//3M353F8w4YNo7/4i79oxIKvBsgb5FOnTjmtoC5807ThXlSIZagL/fzET/yEe38AO3DiJhteoz28IWvaUtaopvbkWE5eqTG5Keb7+JSYFzHa9ekuJWaID37lV37FaQDvV7CeQQ8Y96wtZB2bxerLX/6y6wv9Xbp0adwlTpYwP7D/N3/zN8f7q098HELfW6ZqBf3jvp1bt251nHAOgIQd3m/D1suXL1dNdM9TxxizfuP9IvyGpF/oFqO50DabyuWc6+indGycxTR1zYXt0Ar8dfr0aYcMV5FgH/5wnomYja9LT8b5VC2hk5RzBlypBJsmr7JDwgH7cb7ie28Qs+ahnTbXoD/8wz90/YN59cMdsUt8FDMfnVMn/qWsoaE+m6VVMSU11kv9psdcvFI11xT7fXxwrgXd4Q/J0HluiL1JSShZoMXw6iMErLmho3ZBOHDgwBho1S48134tQGvbpHN9tmqykbntm7R31msEp0nm1ddNb/CRPJCyuCwQb2jwGieDWLTrNh9DaUfr77o+Y/a37ZMYW6tl8cZXOMqj70qQ6n0I5KsLuKxa6tR9kvzHf/zH4zJStvrou0klbvAqZbCIyIZLh7Ef/va9EdDoUvqw+NgFbeGGh/DVD/zAD4x+9Vd/dQQfynbnzp2RfOKGkyH4EPdPkU0S0eLz6mPdSUaqRnDSVG0fzxF78KYYN5CVY134ykAuXeCNH+Yvkn4/+7M/u+wNCpj89m//tnOVz3c3b950zPB+QDb4Wjj6Hv/+7/9eik494oREfIKTLpnzTZ+gY97Lpea+/pCwkO1Hf/RHXfvf+73fK7umHlPXqGvXro1+/Md/3CXA8Fze4MM+JNSw5eSVGpObYr6PT4l5EaNdn+5SYgb4Y+2CVqETfC0TN74XzSBhWreFrmMhrNauXev6xEmabPI+CLbgxNu3+Tj43hf53lumagX3U0F8FEaTj7/1W7/lM3WUMsaY9RsJPNiCxEXoFqO50DabyuWc6+indGycxTR1zcWVGaIb3CAaG84dZV/10XdlW4qW0IdvbkhfdecMSLRJGVx5KBvKY3/duhGz5vlirPQjjyXXoE9+8pNuLPgAWTafj2Lmo7Qjj6n2h/psllZhR2qsh+0/8zM/M/rhH/7hEeJbNc+BfvHBeE5eqZrzsZLYX8dHEmd152viv9yPiL3qJBQ++fiHf/iHZRMbJxupm2ZBqGb08IYKyYyzZ8+Og0ddgAm1VWObr4+qWHBShU/8cTVI6pbbvlg7qsEJb1AwURGE8ckiAjU+jZZExWTbclKBhQUbJri8yTl+/Phkcfe6tL+9nUbubNsnkeaOi1dPSJB0/vmf/3nvm2DMfVmccfUbNtzQFfvgv7qbB+MqE9EEPuWCTmRBx35fEgptf9u3fZurB/uwIUkgOqle2eAOfu2fRpfVdqw9t64tzOGqT0Un+PQcV13Ab4h52OQql2r8q55QYvFHkgKfREo70J5vS9FINQmFGIR1Q2xDH6Kxqn2+vi3sy6ULXJ0rrOURbL7/+7/fneThPjTYfL6TEyMkgWSrviFHO7j66dy5c+M+4DffhqSN6AgJMWy4ck1s+uu//mtfNXdFiZTBFXa4cuPHfuzHxvWqSShc8YmyVXsnG01Zo4SD2IFHJDtw0oIYBnbYpFy1/1ReqTG5KebX8ck9L2K069NdasyoJnuQYMGGN+7w1+TVD+7g1/7FrGOzWOF9s+gE9/jBtri46PYh0VS3+TiEvrdM1Up1HuH92e3bt8e8MIa6JFTKGGPW77/9278dM6yeJNaxw/4YzTW1E3os51yfR2wMYZqy5uJDKNG73AQbPpN9mC/4UOqnfuqnvB8upmgp9ZwB5y0yz3A1LTb8cJLYiqvxfVtMDK+LsdV2S65B3/Vd3+XGgytwZPP5KGY+SjvymGJ/jM9CtJoS66vtis+hT9y3WK7sQpIqJ69UzTXF/uo4qvERNybHuKq+F5+VfETsVSeh8Ksc2JABlEW2mkmNHYBmQahO+GpGD1+xAGDLSaj//u//jkU1VV7DbqqxhB3V4IQTGNnwJkUmrnziIcfkEf7CSR9OLmTDp4zYh+ytbyvtb1+fsfva9kmsvVJeTkgkKSj7fY/yRlx8jjrwN05WfRuCq+gBi5JsuNpC9tcloZDokjKIPdVPC+quUtHoUmyz+GhdW7gKCr7CSbdoQnwnj/iKCWKfvK5eDiwnlNWraXB5u5StXjVV9U+KRqpJqMlL/9G2JNKrV+BV+7T0PJcu4DOs6RILhLs8Yu7W+Q6fFqJc9cclqvFargACN3yNH2Wrfq7yxJWwWAfwV70aBF8PwL66X8OqXrEtsQEnO2J/NQn1u7/7u24/xlu3paxRcqUJGMr7I+kfj/KeJCcv2B8bk1FH/OyL+XV8cs+LUO3W6S41ZvzZn/2Z09KFCxfG7kfSG/pC0sC3xa5js1hVx4T5Ub3CBLeU8G3VOtXYWT0RQZmmLUUrwln0i/aRVBZt1yWhqvaGjjFm/a4yq16x0jT+UM01tRFzLOdcn0dsDGGasubKezdJxINhNQmF2Nm0pWipugbFniPialboG+sUkn/iR8zruq3a36w1ry7GVtsuuQbJe7TqD374fBQzH6u243mK/VWGs3wWotWUWC9fpwYj+F/iXPUR701y80rRXFPsr+Ozd+9eN6bqVbiTvivxGrFXnYSqGiafHCHpk7ppFgSc0IgocC8P2eQyx+qCKcdiHjW2+foRsVSDsK9c6L7c9oX2K+Wqwal69RIupRW/IKDk2kr7O4edbfskdQxyQoJPR2ZteKMu/q1+OoTnvu3Ro0fj8vI9c5STS0XRVl0SCsluWQSQtMKVmCiPT4zrtnnrss6O3Putaws3eUYiAPyxwe+IC1gfsNjJiVX1qha5AgDl5UQHSQrZqpc7w/++LUUj1SQUPs2a3OTeJ7PeGE/Wa+N1Ll3g6jP5KjS+ToQTS3xiBhb4ai6uQqzznbwXqPKqvpmsJo7QlsQP0UoObvKp62RySy49ryahbty4MbYBydNcG048cAUWNiQt8AYYP82OXwfC/RkkzuXmFRuTYV9TzK/jk3tehGq3TnepMSPF37HrWAgr+ZU7xEjcbxXzAslLuVJk0s46DjHvLVO0gvfSsK16Dz/cv0rmcV0SCvbHjjFm/a6W9X2YMMkPr0M156ubsi/3XE+xISY2hjBNWXMl7leT3tUkVF3ytzreWC1pzhmqXyXD16rlyihc+V+3xax5dTG2ru3Q/aFrkMxdJFJk8/moqgdr53lV20Lnv4y16REJ9mp7uIIUV4NiHcdV/XKuk5tXiuaaYn8dH9xHG/6vzsUmHrmOIfaqk1D3798f2yNvAKqffo4PBj7RLAgIDDKRql+bkMXfahJKa5eg1bCTNjSPVYHjjbZsuKeC+EXekMsxzWNpf2tsk7pt+0TsiH2UE5LqlUp1beBEVfwrJ3i4UWnd9ubNm3H56uWfEgjRlpyc+dr4yZ/8SVdf3gij/O/93u/5irp989ZlrSGZD3RVW5MYsIaIfnBiJ5usJ9UkQvXqg6WlJSk69RirkWoSSq6aqTYqtvziL/5idbfJ5/PURZ3vEP/h02r8qL4h/9znPjdmd+TIEVc214cx0jC+xiG6wgkyNiTOZF81CVW1DfFi3ltuXrExGeNtivl1fHLPi1Dt1ulO7EmJGbE+j13HxLamGPKnf/qnY33KlQm4n17dVsdBTkRC3lumaAU/JIJ5VP36aPUkuikJFTvGmPUbV6jI/A79yfFQzdX5IHZ/7rke2z/Kx8TGUKaxay7WAPiqqtFqEqp61UvdGGO1pD1nQNIBNsv7XDyv/kjOpJ3VuDlrzauWbWMNQszEeJCok83no5j5KO1oHmN8FqpVjT1NdUvwitVcU+yv4yNXjTd9mN807tRjiL3qJNT+/fvdJ3zVBQifoKZumgUBJ66YRPhDdhJvEqpf36gGuxT7NLb5+hOxNF3O6atXty+3fXX91O2vBiecUOCKArz5l6tV4Jfq91Dr2gndX9rfoXY0lWvbJ022NR2TExJcphmyyRsrmX/VT0h89eWrCXijjcuqsZDLm2600ZSEwlc6pR884pNinFzWbfPWZZ0dufd3VVuTHKoLI76zLpuctMHH+OUWlMNNg8X3eNNWt8VqpJqEknvCVNtGUhX9Vj8lrB639HyeuqjzndwXDldOyVZ9k40PhnDFERJ+kkzWXEEtfVQfceN00Qo+VUccwFcNZF81CYWvYWH/vD8JFHtL8IqNyU0xv45P7nkRqt063Wlihvgi5jFmHQthhXHhptqiUTxWrxqctK2OQ+x7y1it4BeMxUZ8DRDv66ptNCWhYscYs35X7x9Tvap2klv1dajmqnU0z0vM9Vh7YmJjKNPYNVeumq9+BbqahPqd3/mdmcOK1ZL2nEGSDKL96lXaPmNj1ry6GOtrt8Q+uf8c7k0lm89HMfNR2tE8xvgsVKsae5rqluAVq7mm2F/HB78+DU1Xr1xvGmeuY4i96iQUDK/e6wDP8b3D1E27IOB+VBIgqnZhH5NQqV4Jq1cNTj4fyA39wloLK1XS32EWNJfS6rm59XJHm05IfL1W7wcB38+KAbifj2jE99iUhEL/cnUj6s4KnG3o0sco976uasvHQT5ZrCZ5qieU8HM1nkOfs7YYjVSTUJParV59hRvwWt/mrQuf7+TnnqtJneob8kl/4rX8sEEuvvgQShJcaF++PoHn+KsmoeR+dPjApI2tBK/YmNwU8318SsyLGO36dKeNGbG+D13HYlgdPXp0vDZW50+dbT4OTScivnZitVK9AS/mUjU243VTEgr9x4wxZv2WccCe0C1Gc6FtNpUrMdeb+vMdi4mNMUxj1tyvfOUrY51LwrCahMI9kkK2GC2hPc05Az5Ur2q9+n7FZ2vMmueLsb42S+37+Mc/7vxRfT/t81HMfMxla6jPYrSay7ZqOyV4xWquKfbX8cEHgIjbn/nMZ6rDKf4csVeVhMKbOvzKC4zHHy7nwyA1m3ZBwFUVktGFTfj0Se5eby0Jha8iiY0aZlJXy07aSX2sBifoovqmH1/LqLuvQWp/qFfS3xq7pG7bPhE7Yh9xmT202fRVgMk25YQv5OZ2uIeA3HQP/WBhr366OisJhTe5qIe/pp92h41t6HKSTYnXXdWWjwWuXIUvcZ8c2eSEEr8MJXpEGXwVxPeVOaknjzEa+ZM/+ZOxnp48eSJNuEe5mhbxrOmKu2WVWnwxb134fPelL31pzFNOMKpvyKtzHz797Gc/W4QYYoPEJfSDK7PkipRqEkp+HaatG8+X4iVjD4nJMsd8Md/Hp8S8iNGuT3famBErwtB1LIYVYhu0ir9Pf/rTM03ycUh5bxmjFRiFe/pVT8irc3pWEipmjDHr96c+9SnHLUTvAjZGc1JH81hqrsfaFBobY5jGrLmwV676k/vtVJNQTbdYqI41Rkuopz1nwLqBuYn3A0guN20xa54vxja1nfuY/JI8ktrVbdJHMfOx2o7meajPYrSqsaepbgleMZpriv0+PljDJI6H/phD0/hjjiH2qpJQgI0N3ylHYM2x5VoQIFo5Ual+V1ljYy7bNDY01W3bvmpwwk9v4zVuEC/342iyXXushL+1NqF+2z7JMYaSbXz1q18dffGLX3Rftap+v39WEirGpjZ1GWNnbNk+aUtO0qqf/MsJ5a5duxwaaGLyKqVYZinlP/nJT7o3nZ/4xCdSqs+9zrx14fMdBi2/eiefFlffkD948MB9XR6/cDnrjXwOgPjlGrnhuNxjQZJQcp8ovBHDzfTb2izxqjKo41NiXsRo16e7tmLGrHWsBCvxkY+DHCv9iBMYzGFopHq116wkVIxdMes3PrBAguDzn/98cBcxmgtudEZBS3O9KTZiGClMZwx/fBi3bYC/qlffjA8WfjKPc4bQNa8uxhZGsKx5xDC5cABsZJv0Ucx8lDZyPc7yWUmtho7BEq9Jm318bt686eYgjs17Q+zNkoTKaXiJBYFJqJweqm9rMjjVlyx7JJe/c1hZQs857LLYxrySUBbHnmJT37QlV7D+4z/+o8MxeUKZwihHHVw5gwSFJDFytFmyjTZ0Mek7jE/ujyBfcZt8Q16SQVPbk0kouRfH4cOHm6oVP2aVVx2fEvMiVruTurMQM3zrWAlWVUFOcqgem9fzeSWh6saD+0oioYErZWO2WM3FtF1X1upcn4yNqUzrxj25X75qFHJV0WTdnK9LnTOErnl1MTbnGEPawo8mYA7hlzllm/SR1fO80loVHrMerfKq4yP3g8Iv9857Q+xlEiqCehuLVYR5rV91YzU4xTDMXda6ZnKPV9Oe7827pj2pa0WXYk+ux75pSz6RkZvhWzihlF9mwc/xdmVrQxeTvhNW8skbfvUw9A251C31OHmiJb/0Nfk1zFL9N7VrkZePT6l5EavdSd1ZiBmT61gpVlUdTXKoHpvX87aTUPKLb5cuXYoacqzmohpvKGxxrk/GxlSmDcOeOiRXCYbciHyqcqYdbSehfDE209CimsGVwPjAbfLHsqo+svJ+etJn89BqKEyLvHx88C02+Hv9+vWhQ8taDrE3KQmFS+JwY8JcX8GrjqrEgpDL3hK2VceufW7BPlyaDW20+bWGXP7W+gP1Lfgkxzjm0QbuBwDt4A+X+efcLOgy53jQVh+19fu///sjOYnA16mhhTa+gie+wn0z8FPR+FWRrmxt6aLqO2GFr9qCH3xZcn5LfyGPVV3hDTXsa+NTQJ+t1njV8Sk1L1K0W9Vd1bc+vvPYN6nzUqwmx1LlMHlsXq9l/c79/i9k/b5y5Yq7ITo0G7OlaC6m/bqy1uY67JycP6lM68bs2//8+XMXg7/whS/4Ds9lX6lzhslY4BtMXYz1lZ3HPvzSPdZEfEVQtkkfhcxHqVvqcdJn89Bq6Fgs8vLxwS9Bw9fy7YPQ8eUqh9iblITKZYCvnbYWBJ8tk/ss2wZbrds3yXMIr+mTIXi5nTFSW+1wt94rdWHdQ7SvjgC1W0eG+0sRoOZKkWW7JEACJFBPALGXSah6PlNHrC9W1u2bAjqAHfTJAJzc0hCprZbAG++WujDuIJpXS4DarUXDA4UIUHOFwLJZEiABEmgggNi7Av/4RwbUADVADVAD1AA1QA1QA9QANUANUAPUADVADVADJTXAK6EasnSTh+AIy5t1+yyzK2UbfVKKLNultqgBHwHqwkeF+7pAgNrtgpf6ZSM11y9/cjQkQALdIIDYyyRUhK+sL1bW7YtA3Zui9ElvXGluINSWOZeYMIi6MOEGGpFAgNpNgMYqKgLUnAofK5MACZBAEgHEXiahItBZX6ys2xeBujdF6ZPeuNLcQKgtcy4xYRB1YcINNCKBALWbAI1VVASoORU+ViYBEiCBJAKIvUxCRaCzvlhZty8CdW+K0ie9caW5gVBb5lxiwiDqwoQbaEQCAWo3ARqrqAhQcyp8rEwCJEACSQQQe5mEikBnfbGybl8E6t4UpU9640pzA6G2zLnEhEHUhQk30IgEAtRuAjRWURGg5lT4WJkESIAEkggg9kYnoXbs2DFasWLF6NatW95Onz9/7o5v2bLFe3zWztQF4d69e67fxcXF2i4OHz7syly/fr22TNOBVNvQZmlu6ENjX9O4Sx6bh99K2j+r7S76ZNaYchzvu99zMJrVxpC1dfXqVRfLsRb5/nbt2jULX2+PD1kXOZ3KGJWTZlhb1O5sTtTlbEYxJai5GFos2xYBzvu2yLPfUgQQe6OTUFeuXHFv+vft2+e16+zZs+74mTNnvMdn7dQsCBs3bnR9P3nyZKqb9+/fjz766GPu7927d1PHQ3ZobCvNDfZr7AsZf6kypf1Wyu6Qdrvqk5Cxacv02e9aNiH1h6wtiacLCwujAwcOTP1duHAhBGEvywxZF7kdyhiVm2hze9RuMx85Sl0KCf0jNadnyBbmQ4Dzfj6c2ct8CCD2RiehkMBZvXr1aNWqVaO3b99OWbp161aXCHrx4sXUsZAdmgXh5MmTru+lpaWprm7cuOGOHTlyZOpY6A6NbaW5YQwa+0IZlChX2m8lbA5ts6s+CR2fplyf/a7hElp3yNqSJNSJEydCcQ2m3JB1kdvJjFG5iTa3R+0285Gj1KWQ0D9Sc3qGbGE+BDjv58OZvcyHAGJvdBIKph08eNAldK5du7bM0kePHrn9O3fuXLY/5oVmQXj27Jnrf/PmzVNd7tmzxx27f//+1LHQHRrb0EdJbmhfa18oh9zlSvstt70x7XXVJzFjTC3bZ7+nMompN2RtMQlVr5Qh66KeStoRxqg0bqm1qN0wctRlGKeQUtRcCCWWsUCA896CF2hDLgKIvUlJqDt37riEzu7du5fZcvz4cbc/9Z5LaEy7IGzfvt3Z8PDhw7Ftr1+/Hq1cuXKUep8qaUhrW0luOdjJONt4LOm3NsYjfWo1I+309bGvfp+Hv4asLSah6hU2ZF3UU0k/whiVzi62JrUbToy6DGfVVJKaa6LDY9YIcN5b8wjtSSWA2JuUhEKHmzZtcomdN2/ejPtfu3btaM2aNSPcfyl10y4IcsNaJMRku3jxoktMnTt3TnYlPWptQ6eluKHtHPYlgclQqaTfMpiX3ESXfZI86IiKffV7BILkop7uRUYAACAASURBVEPWliShfDclx30ThrwNWRcl/M4YVYKqv01q18/Ft5e69FGJ30fNxTNjjfYIcN63x5495yWA2JuchDp16pRL7Fy6dMlZdfv2bff66NGjKiu1C4Lce2n9+vVjO7Zt2+YSZi9fvhzvS3mitQ19luKGtnPYl8IlR52SfsthX2obXfZJ6phj6vXV7zEMUssOWVuShNqwYcMIX/+u/mnXoFR/WKk3ZF2U8AFjVAmq/japXT8X317q0kclfh81F8+MNdojwHnfHnv2nJcAYm9yEkq+m4pLA7Ht37/fJaEePHigsjLHgnDo0CFny927d0dPnz51zye/OphiZA7bSnHDeHLYl8IlV51SfstlX0o7XfdJyphj6/TR77EMUsoPWVuShOKNyaeVM2RdTNPIs4cxKg/HWa1Qu7MILT9OXS7nkfKKmkuhxjptEuC8b5M++85FALE3OQkFI+S7qbjCCL+Yh5/L1m45FgS59xI+ET99+rRLQt28eVNrWrYkTwluGFwOdmpIigZK+U1hkrpq132iBhDQQB/9HjBsdZEha4tJqHr5DFkX9VR0RxijdPxCa1O7oaQ+lKMu43j5SlNzPircZ5kA571l79C2UAKIvaoklHw3VX717fz586F915bLtSDg3kvr1q0bLS4uuvtU1XYYcSCXbSW4YRi57ItAkr1oCb9lNzKiwT74JGK4yUX75vdkEBEVh6wtJqHqhTJkXdRT0R9hjNIznNUCtTuL0PRx6nKaScweai6GFstaIcB5b8UTtCOVAGKvKgkl303FzWHx63OvXr1KtWVcL9eCIPdegm3Hjh0bt695ksu2Etwwrlz2aRhp65bwm9YmTf0++EQz/tC6ffN76Lg15YasLSah6pUzZF3UU9EfYYzSM5zVArU7i9D0cepymknMHmouhhbLWiHAeW/FE7QjlQBiryoJhY7lu6l79+5NtWNZvVwLgtx7CUmox48fL+sj9UUu29B/bm5oM6d9qYy09Ur4TWuTpn4ffKIZf2jdvvk9dNyackPWllxNurS0pEHYy7pD1kVJhzJGlaT7oW1qN54xdRnPrFqDmqvS4POuEOC874qnaGcdAcRedRKqrvHU/ZYXBMu2gbd1+1I10eV69EmXvWfbdmrLtn/aso66aIs8+9USoHa1BFk/lgA1F0uM5UmABEhATwCxl0moCI7WFyvr9kWg7k1R+qQ3rjQ3EGrLnEtMGERdmHADjUggQO0mQGMVFQFqToWPlUmABEggiQBiL5NQEeisL1bW7YtA3Zui9ElvXGluINSWOZeYMIi6MOEGGpFAgNpNgMYqKgLUnAofK5MACZBAEgHEXiahItBZX6ys2xeBujdF6ZPeuNLcQKgtcy4xYRB1YcINNCKBALWbAI1VVASoORU+ViYBEiCBJAKIvUxCRaCzvlhZty8CdW+K0ie9caW5gVBb5lxiwiDqwoQbaEQCAWo3ARqrqAhQcyp8rEwCJEACSQQQe5mEikBnfbGybl8E6t4UpU9640pzA6G2zLnEhEHUhQk30IgEAtRuAjRWURGg5lT4WJkESIAEkggg9q7AP/6RATVADVAD1AA1QA1QA9QANUANUAPUADVADVAD1EBJDfBKqIj8HRxhebNun2V2pWyjT0qRZbvUFjXgI0Bd+KhwXxcIULtd8FK/bKTm+uVPjoYESKAbBBB7mYSK8JX1xcq6fRGoe1OUPumNK80NhNoy5xITBlEXJtxAIxIIULsJ0FhFRYCaU+FjZRIgARJIIoDYyyRUBDrri5V1+yJQ96YofdIbV5obCLVlziUmDKIuTLiBRiQQoHYToLGKigA1p8LHyiRAAiSQRACxl0moCHTWFyvr9kWg7k1R+qQ3rjQ3EGrLnEtMGERdmHADjUggQO0mQGMVFQFqToWPlUmABEggiQBiL5NQEeisL1bW7YtA3Zui9ElvXGluINSWOZeYMIi6MOEGGpFAgNpNgMYqKgLUnAofK5MACZBAEgHE3ugk1I4dO0YrVqwY3bp1y9vp8+fP3fEtW7Z4j8/ambog3Lt3z/W7uLhY28Xhw4ddmevXr9eWaTqQapu0efXqVdc/+Pn+du3aJUWTHrX2JXWqrDQPvylNVFXvok9UAw6s3He/B2JQFRuytkrHUpVjWq48ZF3kRM8YlZNmWFvU7mxO1OVsRjElqLkYWizbFgHO+7bIs99SBBB7o5NQV65ccQmUffv2ee06e/asO37mzBnv8Vk7NQvCxo0bXd9PnjyZ6ub9+/ejjz76mPt79+7d1PGQHRrb0L6wW1hYGB04cGDq78KFCyFm1JbR2lfbcOEDpf1W2PzG5rvqk8ZBZTrYZ79nQtTYzJC1VTqWNoI3fnDIusjtGsao3ESb26N2m/nIUepSSOgfqTk9Q7YwHwKc9/PhzF7mQwCxNzoJhQTO6tWrR6tWrRq9fft2ytKtW7e6RNCLFy+mjoXs0CwIJ0+edH0vLS1NdXXjxg137MiRI1PHQndobEMfcuJ04sSJ0C6jymnti+osY+HSfstoanRTXfVJ9EATKvTZ7wk4oqsMWVulY2m0MwxVGLIucruBMSo30eb2qN1mPnKUuhQS+kdqTs+QLcyHAOf9fDizl/kQQOyNTkLBtIMHD7qEzrVr15ZZ+ujRI7d/586dy/bHvNAsCM+ePXP9b968earLPXv2uGP379+fOha6Q2Mb+ih94qS1L5RD7nKl/Zbb3pj2uuqTmDGmlu2z31OZxNQbsrZKx9IYP1grO2Rd5PYFY1Ruos3tUbvNfOQodSkk9I/UnJ4hW5gPAc77+XBmL/MhgNiblIS6c+eOS+js3r17maXHjx93+1PvuYTGtAvC9u3bnQ0PHz4c2/b69evRypUrR6n3qZKGtLaVPnHS2ifjbOOxpN/aGI/02WWfyBhKPvbV7yWZSdtD1lbpWCqMu/g4ZF2U8BdjVAmq/japXT8X317q0kclfh81F8+MNdojwHnfHnv2nJcAYm9SEgpmbNq0ySV23rx5M7Zq7dq1ozVr1oxw/6XUTbsgyA1rkRCT7eLFiy4xde7cOdmV9Ki1TU6cfDclx3d9tZvWPm3/mvol/aaxS1u3yz7Rjj2kfl/9HjJ2bZkha6t0LNX6ps36Q9ZFCe6MUSWo+tukdv1cfHupSx+V+H3UXDwz1miPAOd9e+zZc14CiL3JSahTp065xM6lS5ecVbdv33avjx49qrJSuyDIPavWr18/tmPbtm0uYfby5cvxvpQnWtvkxGnDhg0jfGWx+qflhvFo7UthkqtOSb/lsjGlnS77JGW8sXX66vdYDinlh6yt0rE0xR9W6gxZFyV8wBhVgqq/TWrXz8W3l7r0UYnfR83FM2ON9ghw3rfHnj3nJYDYm5yEku+m4tJAbPv373dJqAcPHqiszLEgHDp0yNly9+7d0dOnT93zya8OphiptU1OnHhjcj/9Un7z9zafvVrNzMfKdnvpo9/nQXTI2iodS+fhv1J9DFkXpZgyRpUiu7xdanc5j1mvqMtZhGYfp+ZmM2IJWwQ47235g9akEUDsTU5CoUv5biquMMIv5i0sLKRZUqmVY0GQe1bh6qLTp0+7JNTNmzcrvaQ91dpW+sRJa18alXy1Svktn4XxLXXdJ/Ejjq/RR7/HU4ivMWRtlY6l8d6wU2PIuijlBcaoUmSXt0vtLucx6xV1OYvQ7OPU3GxGLGGLAOe9LX/QmjQCiL2qJJR8N1V+Le/8+fNpllRq5VoQcM+qdevWjRYXF919qipdJD/V2lb6xElrXzKYjBVL+C2jedFN9cEn0YNOqNA3vycgiK4yZG2VjqXRzjBUYci6KOkGxqiSdD+0Te3GM6Yu45lVa1BzVRp83hUCnPdd8RTtrCOA2KtKQsl3U3Gjbfz63KtXr+r6Ct6fa0GQe1bBtmPHjgX331RQa1vpEyetfU1jn9exEn6bl+2+fvrgE9+4cu/rm99z8/G1N2RtlY6lPt5d2TdkXZT0EWNUSbof2qZ24xlTl/HMqjWouSoNPu8KAc77rniKdtYRQOxVJaHQsHw3de/evXX9RO3PtSDIPauQhHr8+HGUDXWFtbbJlWNLS0t1Xaj2a+1TdZ6pcgm/ZTItqZk++CRp4JGV+ub3yOEnFR+ytkrH0iSHGKk0ZF2UdAFjVEm6H9qmduMZU5fxzKo1qLkqDT7vCgHO+654inbWEUDsVSeh6hpP3W95QbBsG3hbty9VE12uR5902Xu2bae2bPunLeuoi7bIs18tAWpXS5D1YwlQc7HEWJ4ESIAE9AQQe5mEiuBofbGybl8E6t4UpU9640pzA6G2zLnEhEHUhQk30IgEAtRuAjRWURGg5lT4WJkESIAEkggg9jIJFYHO+mJl3b4I1L0pSp/0xpXmBkJtmXOJCYOoCxNuoBEJBKjdBGisoiJAzanwsTIJkAAJJBFA7GUSKgKd9cXKun0RqHtTlD7pjSvNDYTaMucSEwZRFybcQCMSCFC7CdBYRUWAmlPhY2USIAESSCKA2MskVAQ664uVdfsiUPemKH3SG1eaGwi1Zc4lJgyiLky4gUYkEKB2E6CxiooANafCx8okQAIkkEQAsZdJqAh01hcr6/ZFoO5NUfqkN640NxBqy5xLTBhEXZhwA41IIEDtJkBjFRUBak6Fj5VJgARIIIkAYu8K/OMfGVAD1AA1QA1QA9QANUANUAPUADVADVAD1AA1QA2U1ACvhIrI38ERljfr9llmV8o2+qQUWbZLbVEDPgLUhY8K93WBALXbBS/1y0Zqrl/+5GhIgAS6QQCxl0moCF9ZX6ys2xeBujdF6ZPeuNLcQKgtcy4xYRB1YcINNCKBALWbAI1VVASoORU+ViYBEiCBJAKIvUxCRaCzvlhZty8CdW+K0ie9caW5gVBb5lxiwiDqwoQbaEQCAWo3ARqrqAhQcyp8rEwCJEACSQQQe5mEikBnfbGybl8E6t4UpU9640pzA6G2zLnEhEHUhQk30IgEAtRuAjRWURGg5lT4WJkESIAEkggg9jIJFYHO+mJl3b4I1L0pSp/0xpXmBkJtmXOJCYOoCxNuoBEJBKjdBGisoiJAzanwsTIJkAAJJBFA7I1OQu3YsWO0YsWK0a1bt7ydPn/+3B3fsmWL9/isndoFYdOmTa5/2Oj7+7Li5uIa20pzA1eNfbP8Uvp4Sb+Vtr2p/S77pGlc2mP37t1z83NxcbG2qcOHD7sy169fry0z5AND1tbVq1e98V1i/q5duwYrjSHrIqfTGaNy0gxri9qdzYm6nM0opgQ1F0OLZdsiwHnfFnn2W4oAYm90EurKlSvuzf++ffu8dp09e9YdP3PmjPf4rJ3aBWHjxo2u/wMHDox8f0+fPp1lQu1xjW2lucFojX21g57TgZJ+m9MQvN102SfeAWXcKT5/8uTJVKvv378fffTRx9zfu3fvpo5zR7fnu9Z/Ek8XFha8cf7ChQvaLjpbnzEnn+sYo/KxDGmJ2g2hNBpRl2GcQkpRcyGUWMYCAc57C16gDbkIIPZGJ6FwQrh69erRqlWrRm/fvp2yZevWrS4J9OLFi6ljITu0CwImKWwrsWlsK80N49XYV4JXTJsl/RZjR+6yXfZJbhaT7Z08edLFiqWlpclDoxs3brhjR44cmTrGHR8IDFlbkoQ6ceIE5TBBYMi6mEChfskYpUYY1QC1G4aLugzjFFKKmguhxDIWCHDeW/ACbchFALE3OgmFzg8ePOhOEK9du7bMlkePHrn9O3fuXLY/5oV2QSiZzNDaVpIbGGvti/FT7rIl/Zbb1pj2uuyTmHGmlH327JmLF5s3b56qvmfPHnfs/v37U8e44wOBIWuLSaj6WTBkXdRTSTvCGJXGLbUWtRtGjroM4xRSipoLocQyFghw3lvwAm3IRQCxNykJdefOHXeCuHv37mW2HD9+3O3X3MNFuyCUTGZobSvJDY7Q2rfMmXN+UdJvcx7Ksu667JNlAyn0Yvv27S5mPHz4cNzD69evRytXrhyl3ldu3FDPnwxZW0xC1Yt7yLqop5J+hDEqnV1sTWo3nBh1Gc6qqSQ110SHx6wR4Ly35hHak0oAsTcpCYUOcSNpnCi+efNm3P/atWtHa9asGeF+LqmbdkFAMkNuTjv5ePny5VSzXD2tbWikFDe0ncM+FSBF5ZJ+U5ilrtpln6gHH9CA3GAaCWzZLl686ObwuXPnZBcfPQSGrC1JQk3GeLxGLBnyNmRdlPA7Y1QJqv42qV0/F99e6tJHJX4fNRfPjDXaI8B53x579pyXAGJvchLq1KlT7kTx0qVLzqrbt2+710ePHlVZqV0QJJmBrwRO/sFGzaa1DX2X4oa2c9in4aOpW9JvGru0dbvsE+3YQ+rLvdLWr18/Lr5t2zaX4H758uV4H59MExiytiQJtWHDhqk4r12Dpkl3a8+QdVHCU4xRJaj626R2/Vx8e6lLH5X4fdRcPDPWaI8A53177NlzXgKIvclJKPluKi4NxLZ//36XhHrw4IHKSu2CgGSGxRuTC5RS3NC+lp3Y2MZjSb+1MR7ps8s+kTGUfjx06JCLHXfv3h3h1ytxNcvkV31L29DF9oesLUlC8cbk08odsi6maeTZwxiVh+OsVqjdWYSWH6cul/NIeUXNpVBjnTYJcN63SZ995yKA2JuchIIR8t1UXLGAX8zDz2VrN+2CUDKZobVN2JTghrZz2Sd2zvOxpN/mOY7Jvrrsk8mxlHot90rDFSynT592SaibN2+W6q437Q5ZW0xC1ct4yLqop6I7whil4xdam9oNJfWhHHUZx8tXmprzUeE+ywQ47y17h7aFEkDsVSWh5Lup8qtv58+fD+27tpx2QSiZzNDaJoMuwQ1t57JP7JznY0m/zXMck3112SeTYyn5GvdKW7du3WhxcdHdV65kX31pe8jaYhKqXsVD1kU9Ff0Rxig9w1ktULuzCE0fpy6nmcTsoeZiaLGsFQKc91Y8QTtSCSD2qpJQ8t1UfH0GNyl/9epVqi3jetoFoWQyQ2ubDLIEN7Sdyz6xc56PJf02z3FM9tVln0yOpeRruVcaYsmxY8dKdtWbtoesLSah6mU8ZF3UU9EfYYzSM5zVArU7i9D0cepymknMHmouhhbLWiHAeW/FE7QjlQBiryoJhY7lu6l79+5NtWNZPe2CgOyw5XtCyWBzc0O7WnZiWxuPJf3Wxnikzy77RMYwj0e5VxqSUI8fP55Hl53vY8jakqtJl5aWOu/H3AMYsi5ys6y2xxhVpVHmObUbz5W6jGdWrUHNVWnweVcIcN53xVO0s44AYq86CVXXeOp+ywuCZdvA27p9qZrocj36pMves207tWXbP21ZR120RZ79aglQu1qCrB9LgJqLJcbyJEACJKAngNjLJFQER+uLlXX7IlD3pih90htXmhsItWXOJSYMoi5MuIFGJBCgdhOgsYqKADWnwsfKJEACJJBEALGXSagIdNYXK+v2RaDuTVH6pDeuNDcQasucS0wYRF2YcAONSCBA7SZAYxUVAWpOhY+VSYAESCCJAGIvk1AR6KwvVtbti0Ddm6L0SW9caW4g1JY5l5gwiLow4QYakUCA2k2AxioqAtScCh8rkwAJkEASAcReJqEi0FlfrKzbF4G6N0Xpk9640txAqC1zLjFhEHVhwg00IoEAtZsAjVVUBKg5FT5WJgESIIEkAoi9TEJFoLO+WFm3LwJ1b4rSJ71xpbmBUFvmXGLCIOrChBtoRAIBajcBGquoCFBzKnysTAIkQAJJBBB7V+Af/8iAGqAGqAFqgBqgBqgBaoAaoAaoAWqAGqAGqAFqoKQGeCVURP4OjrC8WbfPMrtSttEnpciyXWqLGvARoC58VLivCwSo3S54qV82UnP98idHQwIk0A0CiL1MQkX4yvpiZd2+CNS9KUqf9MaV5gZCbZlziQmDqAsTbqARCQSo3QRorKIiQM2p8LEyCZAACSQRQOxlEioCnfXFyrp9Eah7U5Q+6Y0rzQ2E2jLnEhMGURcm3EAjEghQuwnQWEVFgJpT4WNlEiABEkgigNjLJFQEOuuLlXX7IlD3pih90htXmhsItWXOJSYMoi5MuIFGJBCgdhOgsYqKADWnwsfKJEACJJBEALGXSagIdNYXK+v2RaDuTVH6pDeuNDcQasucS0wYRF2YcAONSCBA7SZAYxUVAWpOhY+VSYAESCCJAGJvdBJqx44doxUrVoxu3brl7fT58+fu+JYtW7zHZ+3ULgibNm1y/cNG39+XFTcX19p29epVr01i565du2bhaTyuta+x8cIHS/qtsOmNzXfZJ40DUx68d++emwuLi4u1LR0+fNiVuX79em2ZIR8YsrZKx9Iu62rIusjpN8aonDTD2qJ2Z3OiLmcziilBzcXQYtm2CHDet0We/ZYigNgbnYS6cuWKOzHct2+f166zZ8+642fOnPEen7VTuyBs3LjR9X/gwIGR7+/p06ezTKg9rrVN2C0sLHhtu3DhQm3fIQe09oX0UapMSb+Vsjmk3S77JGR8mjLi8ydPnkw18/79+9FHH33M/b17927qOHeMRkPWVulY2mV9DVkXuf3GGJWbaHN71G4zHzlKXQoJ/SM1p2fIFuZDgPN+PpzZy3wIIPZGJ6FwQrh69erRqlWrRm/fvp2ydOvWrS4J9OLFi6ljITu0CwImKWwrsWltkxOnEydOlDCv0yelJf1WBHZgo1rNBHbTyWInT550sWJpaWnK/hs3brhjR44cmTrGHR8IDFlbpWNplzU2ZF3k9htjVG6ize1Ru8185Ch1KST0j9ScniFbmA8Bzvv5cGYv8yGA2BudhIJpBw8edCeI165dW2bpo0eP3P6dO3cu2x/zQrsglExmaG0rfeKktS/GT7nLlvRbbltj2uuyT2LGmVL22bNnLl5s3rx5qvqePXvcsfv3708d444PBIasrdKxtMsaG7IucvuNMSo30eb2qN1mPnKUuhQS+kdqTs+QLcyHAOf9fDizl/kQQOxNSkLduXPHnSDu3r17maXHjx93+zX3cNEuCCWTGVrbSp84ae1b5sw5vyjptzkPZVl3XfbJsoEUerF9+3YXMx4+fDju4fXr16OVK1eOUu8rN26o50+GrK3SsbTL0hmyLkr4jTGqBFV/m9Sun4tvL3XpoxK/j5qLZ8Ya7RHgvG+PPXvOSwCxNykJBTNwI2mcKL5582Zs1dq1a0dr1qwZ4X4uqZt2QUAyQ270Pfl4+fLlVLNcPa1tcuI0aRdew27tprVP27+mfkm/aezS1u2yT7RjD6kvN5hGAlu2ixcvujl87tw52cVHD4Eha6t0LPXg7syuIeuihJMYo0pQ9bdJ7fq5+PZSlz4q8fuouXhmrNEeAc779tiz57wEEHuTk1CnTp1yJ4qXLl1yVt2+fdu9Pnr0qMpK7YIgyQx8JXDyDzZqNq1tcuK0YcOGKdu03DAurX0aNtq6Jf2mtU1Tv8s+0Yw7tK7cY279+vXjKtu2bXMJ7pcvX4738ck0gSFrq3QsnabdnT1D1kUJLzFGlaDqb5Pa9XPx7aUufVTi91Fz8cxYoz0CnPftsWfPeQkg9iYnoeS7qbg0ENv+/ftdEurBgwcqK7ULApIZvDG5ygWtVC7pt1YG9LVOtXpu0/Z59X3o0CEXO+7evTvCr1fiysDJr/rOy5Yu9TNkbUkSqtSPPHRJB5O2DlkXkyxyvWaMykWyuR1qt5nP5FHqcpJI/GtqLp4Za7RLgPO+Xf7sPQ8BxN7kJBRMkO+m4ooF/GLewsKC2jLtglAymaG1rfSJk9Y+tfMUDZT0m8IsddUu+0Q9+MAG5B5zuBrw9OnTLgl18+bNwNrDLTZkbZWOpV1W1ZB1UcpvjFGlyC5vl9pdzmPWK+pyFqHZx6m52YxYwhYBzntb/qA1aQQQe1VJKPluqvxa3vnz59MsqdTSLgglkxla20qfOGntq7hh7k9L+m3ug6l02GWfVIZR/CnuMbdu3brR4uKiu69c8Q570MGQtVU6lnZZHkPWRUm/MUaVpPuhbWo3njF1Gc+sWoOaq9Lg864Q4LzviqdoZx0BxF5VEkq+m4qvz+Am5a9evarrK3i/dkEomczQ2lb6xElrX7CTChQs6bcC5gY32WWfBA8yQ0G5xxxiybFjxzK02P8mhqyt0rG0y+oZsi5K+o0xqiTdD21Tu/GMqct4ZtUa1FyVBp93hQDnfVc8RTvrCCD2qpJQaFi+m7p37966fqL2axcEZIet3hNKrhxbWlqKYhJaWMsutJ8S5Ur6rYS9oW122SehY8xRTu4xhyTU48ePczTZ+zaGrK3SsbTL4hmyLkr6jTGqJN0PbVO78Yypy3hm1RrUXJUGn3eFAOd9VzxFO+sIIPaqk1B1jafut7wgWLYNvK3bl6qJLtejT7rsPdu2U1u2/dOWddRFW+TZr5YAtaslyPqxBKi5WGIsTwIkQAJ6Aoi9TEJFcLS+WFm3LwJ1b4rSJ71xpbmBUFvmXGLCIOrChBtoRAIBajcBGquoCFBzKnysTAIkQAJJBBB7mYSKQGd9sbJuXwTq3hSlT3rjSnMDobbMucSEQdSFCTfQiAQC1G4CNFZREaDmVPhYmQRIgASSCCD2MgkVgc76YmXdvgjUvSlKn/TGleYGQm2Zc4kJg6gLE26gEQkEqN0EaKyiIkDNqfCxMgmQAAkkEUDsZRIqAp31xcq6fRGoe1OUPumNK80NhNoy5xITBlEXJtxAIxIIULsJ0FhFRYCaU+FjZRIgARJIIoDYyyRUBDrri5V1+yJQ96YofdIbV5obCLVlziUmDKIuTLiBRiQQoHYToLGKigA1p8LHyiRAAiSQRACxdwX+8Y8MqAFqgBqgBqgBaoAaoAaoAWqAGqAGqAFqgBqgBkpqgFdCReTv4AjLm3X7LLMrZRt9Uoos26W2qAEfAerCR4X7ukCA2u2Cl/plIzXXL39yNCRAAt0ggNjLJFSEr6wvVtbti0Ddm6L0SW9caW4g1JY5l5gwiLow4QYa63DSOAAAIABJREFUkUCA2k2AxioqAtScCh8rkwAJkEASAcReJqEi0FlfrKzbF4G6N0Xpk9640txAqC1zLjFhEHVhwg00IoEAtZsAjVVUBKg5FT5WJgESIIEkAoi9TEJFoLO+WFm3LwJ1b4rSJ71xpbmBUFvmXGLCIOrChBtoRAIBajcBGquoCFBzKnysTAIkQAJJBBB7mYSKQGd9sbJuXwTq3hSlT3rjSnMDobbMucSEQdSFCTfQiAQC1G4CNFZREaDmVPhYmQRIgASSCCD2JiWhrl69OlqxYkXt365du5IMQqXUBeHevXvOnsXFxdq+Dx8+7Mpcv369tkzTgVTb0OaOHTtc37du3fJ28fz5c3d8y5Yt3uMhOzX2hbRfssymTZvc+Ot09WXjN4WvY9Nln9SNKcf+eczXHHZabmPI2iq5Bln2eYhtQ9ZFCJ/QMoxRoaTylaN2Z7OkLmcziilBzcXQYtm2CHDet0We/ZYigNiblIS6cuWKSxgsLCyMDhw4MPV34cKFZJs1C8LGjRudXU+ePJnq//3796OPPvqY+3v37t3U8ZAdGtuE2b59+7xdnT171tl+5swZ7/GQnRr7QtovWUZ859MT9j19+rRk98Xa7rJPikH5WsPi81LztbT9bbc/ZG1JPC2xBrXtV23/Q9aFlt1kfcaoSSJlX1O7YXypyzBOIaWouRBKLGOBAOe9BS/QhlwEEHtVSagTJ07ksmXcjmZBOHnypEvkLC0tjduTJzdu3HDHjhw5IruiHzW2IfG1evXq0apVq0Zv376d6nvr1q3OvhcvXkwdC92hsS+0j1LlEFzBpm9bl31S2hel52tp+9tuf8jakiRUiTWobb9q+x+yLrTsJuszRk0SKfua2g3jS12GcQopRc2FUGIZCwQ47y14gTbkIoDY26sk1LNnz1wiZ/PmzVOM9uzZ447dv39/6ljoDu1idfDgQWfDtWvXlnX56NEjt3/nzp3L9se+0NoX21/O8kxC5aTZjbZKz9duUEi3ssvzPX3UH2oyCVVPcMi6qKeSdoQxKo1bai1qN4wcdRnGKaQUNRdCiWUsEOC8t+AF2pCLAGJvr5JQALN9+3aX0Hn48OGY0+vXr0crV64cae63hMa0i9WdO3ecbbt37x7bhifHjx93+1PvVSWNae2Tdtp4ZBKqDert91lyvrY/urIWdHm+a8kwCVVPcMi6qKeSfoQxKp1dbE1qN5wYdRnOqqkkNddEh8esEeC8t+YR2pNKALFXlYTy3UQayQTNpl0Q5Ia1SOzIdvHiRZfkOXfunOxKetTahk5xA24kxN68eTO2Ye3ataM1a9aMcN8qzZbDPk3/mrrQjU9P2Hf58mVN063W7bJP5gGu5Hydh/1t9jFkbUkSyhcztGtQmz7N0feQdZGD32QbjFGTRMq9pnbD2VKX4ayaSlJzTXR4zBoBzntrHqE9qQQQe1VJqA0bNozwFbLq39GjR1PtcfW0C4Lce2n9+vVjO7Zt2+YSPy9fvhzvS3mitQ19njp1yiVbLl265Ey4ffu2e63lhsZy2JfCJUcdSUJVtSTPwairW5d9Mg/mJefrPOxvs48ha0uSUCXWoDZ9mqPvIesiB7/JNhijJomUe03thrOlLsNZNZWk5pro8Jg1Apz31jxCe1IJIPaqklAlbgqbY0E4dOiQS+zcvXvX/aoaPi2f/ApcCrQctsl3enFJJbb9+/c7Wx88eJBi0rI6Oexb1uAcXyAJxRuTzxG4oa5KzVdDQyxiSpfnuxaIJKFKrEFa29quP2RdlGLPGFWK7PJ2qd3lPGa9oi5nEZp9nJqbzYglbBHgvLflD1qTRgCxt5dJKLn3Eq4uOn36tEvy3Lx5M41SpVauxUq+04srs/CLefiZ8RxbLvty2BLbBpNQscT6U77UfO0PIf9Iujzf/SMK38skVD2rIeuinoruCGOUjl9obWo3lNSHctRlHC9faWrOR4X7LBPgvLfsHdoWSgCxt5dJKADAvZfWrVs3WlxcdPdbCoXSVC7XYiXf6ZVfyzt//nxTt8HHctkX3GHGgkxCZYTZwaZKzNcOYogyucvzPWqgnsJMQnmgfG3XkHVRT0V/hDFKz3BWC9TuLELTx6nLaSYxe6i5GFosa4UA570VT9COVAKIvb1NQsm9l/BVvGPHjqUyWlYv12Il3+mFbbhJ+atXr5b1k/oil32p/WvqMQmlodf9uiXma/epNI+gy/O9eWSzjzIJVc9oyLqop6I/whilZzirBWp3FqHp49TlNJOYPdRcDC2WtUKA896KJ2hHKgHE3qQklFzJs7S0lNp3bb1cC4LcewmJnsePH9f2F3Mgl23oU77Tu3fv3hgTGsvmtK+xowIHkdXnPaEKgO1IkyXma0eGnmxml+d78qC/VrHkGqS1re36Q9ZFSfaMUSXpfmib2o1nTF3GM6vWoOaqNPi8KwQ477viKdpZRwCxNykJVddgjv2WFwTLtoG9dfty6KNrbdAnXfNYd+yltrrjq3laSl3Mkzb7ykmA2s1Jk22FEKDmQiixDAmQAAnkJYDYyyRUBFPri5V1+yJQ96YofdIbV5obCLVlziUmDKIuTLiBRiQQoHYToLGKigA1p8LHyiRAAiSQRACxl0moCHTWFyvr9kWg7k1R+qQ3rjQ3EGrLnEtMGERdmHADjUggQO0mQGMVFQFqToWPlUmABEggiQBiL5NQEeisL1bW7YtA3Zui9ElvXGluINSWOZeYMIi6MOEGGpFAgNpNgMYqKgLUnAofK5MACZBAEgHEXiahItBZX6ys2xeBujdF6ZPeuNLcQKgtcy4xYRB1YcINNCKBALWbAI1VVASoORU+ViYBEiCBJAKIvUxCRaCzvlhZty8CdW+K0ie9caW5gVBb5lxiwiDqwoQbaEQCAWo3ARqrqAhQcyp8rEwCJEACSQQQe1fgH//IgBqgBqgBaoAaoAaoAWqAGqAGqAFqgBqgBqgBaqCkBnglVET+Do6wvFm3zzK7UrbRJ6XIsl1qixrwEaAufFS4rwsEqN0ueKlfNlJz/fInR0MCJNANAoi9TEJF+Mr6YmXdvgjUvSlKn/TGleYGQm2Zc4kJg6gLE26gEQkEqN0EaKyiIkDNqfCxMgmQAAkkEUDsZRIqAp31xcq6fRGoe1OUPumNK80NhNoy5xITBlEXJtxAIxIIULsJ0FhFRYCaU+FjZRIgARJIIoDYyyRUBDrri5V1+yJQ96YofdIbV5obCLVlziUmDKIuTLiBRiQQoHYToLGKigA1p8LHyiRAAiSQRACxl0moCHTWFyvr9kWg7k1R+qQ3rjQ3EGrLnEtMGERdmHADjUggQO0mQGMVFQFqToWPlUmABEggiQBib1IS6urVq6MVK1bU/u3atSvJIFRKXRDu3bvn7FlcXKzt+/Dhw67M9evXa8s0HUi1TdosyQ19aO0TO9t43LRpU62eoLUvG78pfB2zLvukbkw59s9jvuaw03IbQ9XWjh07XKy4deuW1z3Pnz93x7ds2eI93vedQ9VFbr8yRuUmOrs9anc2I+pyNqOYEtRcDC2WbYsA531b5NlvKQKIvUlJqCtXrrg3+QsLC6MDBw5M/V24cCHZZs2CsHHjRmfXkydPpvp///796KOPPub+3r17N3U8ZIfGNrRfkhva19oXwqBUGfGdT0/Y9/Tp01JdF223yz4pCmY0GonPS83X0va33f5QtSVxdN++fV4XnD171q0DZ86c8R7v+86h6qKEXxmjSlCtb5ParWdTPUJdVmnonlNzOn6sPT8CnPfzY82eyhNA7FUloU6cOJHdSs2CcPLkSXfysbS0NGXXjRs33LEjR45MHQvdobENfcjJUwluaF9rXyiHEuUQXFetWlWi6Vbb7LJPSoMrPV9L2992+0PVFj5EWL16tYsXb9++nXLD1q1bXax/8eLF1LEh7BiqLkr4ljGqBNX6NqndejbVI9RllYbuOTWn48fa8yPAeT8/1uypPAHE3l4loZ49e+ZOPjZv3jxFb8+ePe7Y/fv3p46F7tAuVkxC1ZNmEqqeTV+PlJ6vfeUm49LGI2mni48HDx508fzatWvLzH/06JHbv3PnzmX7h/RiyLrI7WfGqNxEm9ujdpv5yFHqUkjoH6k5PUO2MB8CnPfz4cxe5kMAsbdXSShg2759uzsJefjw4Zji69evRytXrhxp7xGiXayYhBq7ZOoJk1BTSAaxo+R87TtAbTzqMp87d+64OL979+5lwzh+/Ljbn3rfv2WNdfTFkHVRwmWMUSWo+tukdv1cfHupSx+V+H3UXDwz1miPAOd9e+zZc14CiL2qJJTv5uRIJmg27YIgN//GyYhsFy9edCcm586dk11Jj1rbJAlVghsGpLUvCUqmStCNjwv2Xb58OVMv82+myz6ZB62S83Ue9rfZx9C1hR8zwIcLb968Gbth7dq1ozVr1oxwD8ChbkPXRW6/M0blJlrfHrVbz2byCHU5SSTtNTWXxo212iHAed8Od/aanwBiryoJtWHDhhG+9lD9O3r0qMpS7YIg9wtZv3792I5t27a5k5WXL1+O96U80domSagS3DAerX0pTHLVkSRUVUvy/Pbt27m6mXs7XfbJPGCVnK/zsL/NPoaurVOnTrnE9aVLl5wbECeQtNauQW36NEffQ9dFDobVNhijqjTKPqd2w/lSl+GsmkpSc010eMwaAc57ax6hPakEEHtVSagSN9jOsSAcOnTInYzcvXvX/aoaTkwmv7aRAk1rmyShSnDDeLT2pTDJVYdfx8tFsnvtlJqv3SMRZ3GX53vcSP2l5f4IuDwd2/79+13cf/Dggb/CQPYOXRcl3MwYVYLqdJvU7jSTpj3UZROdsGPUXBgnlrJDgPPeji9oSToBxN5eJqHkfiH4RPz06dPuxOTmzZvppL5WU7tYMQlV7wImoerZ9P1Iqfnad27aeNQHPnJ/BFzlil/MW1hY6MOwVGOgLlT4vJUZo7xYsu+kduOQUpdxvHylqTkfFe6zTIDz3rJ3aFsoAcTeXiahAAD3C1m3bt1ocXHR3SMkFEpTOe1ixSRUPV0moerZDOFIifnad27aeNQHPnJ/BPm1vPPnz/dhWKoxUBcqfLWVGaNq0WQ7QO3Go6Qu45lVa1BzVRp83hUCnPdd8RTtrCOA2NvbJJTcLwRfxTt27Fgdg6j92sWKSah63ExC1bMZwpES87Xv3LTxqA985P4IiPO4SfmrV6/6MCzVGKgLFb7ayoxRtWiyHaB241FSl/HMqjWouSoNPu8KAc77rniKdtYRQOxNSkLJp89LS0t1bSfvz7UgyP1CcHLy+PHjZHuqFbW2leQGO7X2Vcc67+fI6q9atWre3Rbvr8s+KQ6n0kGJ+VppvpdPqa0PbpX7I+zdu7eXfo4dFHURSyysPGNUGCdNKWo3nh51Gc+sWoOaq9Lg864Q4LzviqdoZx0BxN6kJFRdgzn2W14QLNsG9tbty6GPrrVBn3TNY92xl9rqjq/maSl1MU/a7CsnAWo3J022FUKAmguhxDIkQAIkkJcAYi+TUBFMrS9W1u2LQN2bovRJb1xpbiDUljmXmDCIujDhBhqRQIDaTYDGKioC1JwKHyuTAAmQQBIBxF4moSLQWV+srNsXgbo3RemT3rjS3ECoLXMuMWEQdWHCDTQigQC1mwCNVVQEqDkVPlYmARIggSQCiL1MQkWgs75YWbcvAnVvitInvXGluYFQW+ZcYsIg6sKEG2hEAgFqNwEaq6gIUHMqfKxMAiRAAkkEEHuZhIpAZ32xsm5fBOreFKVPeuNKcwOhtsy5xIRB1IUJN9CIBALUbgI0VlERoOZU+FiZBEiABJIIIPYyCRWBzvpiZd2+CNS9KUqf9MaV5gZCbZlziQmDqAsTbqARCQSo3QRorKIiQM2p8LEyCZAACSQRQOxdgX/8IwNqgBqgBqgBaoAaoAaoAWqAGqAGqAFqgBqgBqiBkhrglVAR+Ts4wvJm3T7L7ErZRp+UIst2qS1qwEeAuvBR4b4uEKB2u+ClftlIzfXLnxwNCZBANwgg9jIJFeEr64uVdfsiUPemKH3SG1eaGwi1Zc4lJgyiLky4gUYkEKB2E6CxiooANafCx8okQAIkkEQAsZdJqAh01hcr6/ZFoO5NUfqkN640NxBqy5xLTBhEXZhwA41IIEDtJkBjFRUBak6Fj5VJgARIIIkAYi+TUBHorC9W1u2LQN2bovRJb1xpbiDUljmXmDCIujDhBhqRQIDaTYDGKioC1JwKHyuTAAmQQBIBxF4moSLQWV+srNsXgbo3RemT3rjS3ECoLXMuMWEQdWHCDTQigQC1mwCNVVQEqDkVPlYmARIggSQCiL1JSairV6+OVqxYUfu3a9euJINQSbsgbNq0qdYu2Pxlxc3FNbbt2LHD2XXr1i0vm+fPn7vjW7Zs8R4P2amxL6T9kmVK+q2k3bPa7rJPZo1Nc/zevXtO74uLi7XNHD582JW5fv16bZkhHxiytkquQV3X1JB1kdN3jFE5aYa1Re3O5kRdzmYUU4Kai6HFsm0R4Lxvizz7LUUAsTcpCXXlyhV3criwsDA6cODA1N+FCxeSbdYuCBs3bnS2+ezCvqdPn7ZimzDbt2+ft/+zZ886u8+cOeM9HrJTyy6kj1JlSvqtlM0h7XbZJyHj05QRnz958mSqmffv348++uhj7u/du3dTx7lDn7DvMkOJpyXWoC5zge2MOfk8yBiVj2VIS9RuCKXRiLoM4xRSipoLocQyFghw3lvwAm3IRQCxV5WEOnHiRC5bxu1oFwRM0lWrVo3by/lEYxtOpFevXu1se/v27ZRZW7dudUmoFy9eTB0L3aGxL7SPUuVK+q2UzSHtdtknIePTlDl58qTT/NLS0lQzN27ccMeOHDkydYw7PhAYsrYkCVViDeq6voasi9y+Y4zKTbS5PWq3mY8cpS6FhP6RmtMzZAvzIcB5Px/O7GU+BBB7mYSKYK1drA4ePOhOrK9du7as10ePHrn9O3fuXLY/9oXWvtj+cpZnEionzW609ezZM6f7zZs3Txm8Z88ed+z+/ftTx7jjA4Euz3etD5mEqic4ZF3UU0k7whiVxi21FrUbRo66DOMUUoqaC6HEMhYIcN5b8AJtyEUAsZdJqAia2sXqzp077sR69+7dy3o9fvy426+9943WvmVGzfkFk1BzBm6ku+3btzvtP3z4cGzR69evRytXrhxp7o82bqzHT7o837VuYRKqnuCQdVFPJf0IY1Q6u9ia1G44MeoynFVTSWquiQ6PWSPAeW/NI7QnlQBiryoJ5bs5OZIJmk27IKB/n13Yd/nyZY1pWe61gRtw4wT7zZs3Y1vWrl07WrNmzQj3wdFsWnaavrV1S/pNa5umfpd9ohl3aF25wTQSsbJdvHjRzeFz587JLj56CAxZW5KE8sV67RrkQd2pXUPWRQlHMUaVoOpvk9r1c/HtpS59VOL3UXPxzFijPQKc9+2xZ895CSD2qpJQGzZsGOErZNW/o0ePqqzULgiSzKjaJM9v377dqm3o/NSpU+4E+9KlS84W2IQTKS03NKZlp4KjrFzSb0rTVNW77BPVwAMry73S1q9fP66xbds2l6h9+fLleB+fTBMYsrYkCVViDZom3a09Q9ZFCU8xRpWg6m+T2vVz8e2lLn1U4vdRc/HMWKM9Apz37bFnz3kJIPaqklAlbgqrXRCQzLB4Y3JxnXynF5dUYtu/f79LQj148ECKJD9q2SV3nKFiSb9lMC+5iS77JHnQkRUPHTrk5sDdu3fdr1ciKTv5ldXIJgdRfMjakiRUiTWo6+IZsi5K+Y4xqhTZ5e1Su8t5zHpFXc4iNPs4NTebEUvYIsB5b8sftCaNAGIvk1AR7HItVvKdXlzpgV/Mw8+M59hy2ZfDltg2mISKJdaf8nKvNFwNePr0aZeQunnzZn8GWGgkXZ7vWiRMQtUTHLIu6qnojjBG6fiF1qZ2Q0l9KEddxvHylabmfFS4zzIBznvL3qFtoQQQe5mECqWV8etu8p1e+bW88+fPR1hRX7TLiymTUPV+HcIR3Ctt3bp1o8XFRXd/tCGMWTvGLs937diZhKonOGRd1FPRH2GM0jOc1QK1O4vQ9HHqcppJzB5qLoYWy1ohwHlvxRO0I5UAYi+TUBH0ci1W8p1efO0INyl/9epVhBX1RXPZV99DuSNMQpVj24WW5V5pmBPHjh3rgsmt29jl+a6FxyRUPcEh66Keiv4IY5Se4awWqN1ZhKaPU5fTTGL2UHMxtFjWCgHOeyueoB2pBBB7k5JQciXP0tJSat+19bQLArLDlu8JJQOX7/Tu3btXdqkftezUBigaKOk3hVnqql32iXrwEQ3IvdKQhHr8+HFEzeEWHbK2Sq5BXVfUkHVR0neMUSXpfmib2o1nTF3GM6vWoOaqNPi8KwQ477viKdpZRwCxNykJVddgjv2WFwTLtoG9dfty6KNrbdAnXfNYd+yltrrjq3laSl3Mkzb7ykmA2s1Jk22FEKDmQiixDAmQAAnkJYDYyyRUBFPri5V1+yJQ96YofdIbV5obCLVlziUmDKIuTLiBRiQQoHYToLGKigA1p8LHyiRAAiSQRACxl0moCHTWFyvr9kWg7k1R+qQ3rjQ3EGrLnEtMGERdmHADjUggQO0mQGMVFQFqToWPlUmABEggiQBiL5NQEeisL1bW7YtA3Zui9ElvXGluINSWOZeYMIi6MOEGGpFAgNpNgMYqKgLUnAofK5MACZBAEgHEXiahItBZX6ys2xeBujdF6ZPeuNLcQKgtcy4xYRB1YcINNCKBALWbAI1VVASoORU+ViYBEiCBJAKIvUxCRaCzvlhZty8CdW+K0ie9caW5gVBb5lxiwiDqwoQbaEQCAWo3ARqrqAhQcyp8rEwCJEACSQQQe1fgH//IgBqgBqgBaoAaoAaoAWqAGqAGqAFqgBqgBqgBaqCkBnglVET+Do6wvFm3zzK7UrbRJ6XIsl1qixrwEaAufFS4rwsEqN0ueKlfNlJz/fInR0MCJNANAoi9TEJF+Mr6YmXdvgjUvSlKn/TGleYGQm2Zc4kJg6gLE26gEQkEqN0EaKyiIkDNqfCxMgmQAAkkEUDsZRIqAp31xcq6fRGoe1OUPumNK80NhNoy5xITBlEXJtxAIxIIULsJ0FhFRYCaU+FjZRIgARJIIoDYyyRUBDrri5V1+yJQ96YofdIbV5obCLVlziUmDKIuTLiBRiQQoHYToLGKigA1p8LHyiRAAiSQRACxl0moCHTWFyvr9kWg7k1R+qQ3rjQ3EGrLnEtMGERdmHADjUggQO0mQGMVFQFqToWPlUmABEggiQBib1IS6urVq6MVK1bU/u3atSvJIFTSLgibNm2qtQs2f1lxc3GtbSW55WCX7LQMFUv6LYN5yU1oNZPccUcq9tXv88A/VG3t2LHDxfhbt255MT9//twd37Jli/d433cOVRe5/Xrv3j2no8XFxdqmDx8+7Mpcv369tgwPhBOgdsNZce0MZ9VUkpprosNj1ghw3lvzCO1JJYDYm5SEunLlinvjtbCwMDpw4MDU34ULF1JtUiehNm7c6Gzz2YV9T58+bc22ktwwqC4vpiX9luzwDBW77JMMw5/ZRF/9PnPgGQoMVVsSR/ft2+elePbsWbcGnDlzxnu87zuHqosSfpX49OTJk6nm379/P/roo4+5v3fv3k0d5454AtRuODPRZon3uuFWdL8kNdd9Hw5pBJz3Q/J2v8eK2KtKQp04cSI7Ie2CgAm6atWq7HahQa1tcvJUglsO+4pAC2y0pN8CTShSTKuZIkYZarSvfp8H4qFqCyf8q1evdnH+7du3U6i3bt3qklAvXryYOjaEHUPVRQnfnjx50mlpaWlpqvkbN264Y0eOHJk6xh1pBKjdcG5cO8NZNZWk5pro8Jg1Apz31jxCe1IJIPYyCRVBT7tYMQlVD7uvgVWrmXpi/TjSV7/PwztD1tbBgwddAuDatWvLUD969Mjt37lz57L9Q3oxZF3k9vOzZ8+cnjZv3jzV9J49e9yx+/fvTx3jjjQC1G44N66d4ayaSlJzTXR4zBoBzntrHqE9qQQQe5mEiqCnXayYhKqH3dfAqtVMPbF+HOmr3+fhnSFr686dOy4BsHv37mWojx8/7vYP+R49Q9bFMjFkerF9+3anqYcPH45bfP369WjlypWjod53bAwi8xNqNxwo185wVk0lqbkmOjxmjQDnvTWP0J5UAoi9qiSU7+bkmCCaTbsgoH+fXdh3+fJljWnZvo7ns0/LDQPTslPBUVYu6TelaarqXfaJauCBlfvq98Dhq4oNXVu4QScSAW/evBlzXLt27WjNmjUj3K9nqNvQdZHb7/KDIkhwynbx4kX3PuPcuXOyi48ZCFC74RC5doazaipJzTXR4TFrBDjvrXmE9qQSQOxVJaE2bNgwwtceqn9Hjx5NtcfV0y4IMkGrNsnz27dvt2qbXAlVghsGpmWngqOsXNJvStNU1bvsE9XAAyv31e+Bw1cVG7q2Tp065RIBly5dchwR35Hg165BKqcYqDx0XeR2gdyDbP369eOmt23b5hKgL1++HO/jEz0BajecIdfOcFZNJam5Jjo8Zo0A5701j9CeVAKIvaokVIkbbGsXBExQ3pg8VRLt1Svpt/ZG1e3E4Dy49dXv82CnjZXzsLFkH3K/HnxdCtv+/ftdEurBgwcluzXf9tB1UcJBhw4dctq6e/eu+4VdJDsnvwpaot+htUnthnuca2c4q6aS1FwTHR6zRoDz3ppHaE8qAcReJqEi6GkXK7kSqkTyDsPQ2heBInvRvgbWLvsku5M9DfbV756hZt9FbY1Gcr8eXJGCX8xbWFjIzrlrDVIX+T0m9yDDVXanT592CambN2/m72jgLVK74QLg2hnOqqkkNddEh8esEeC8t+YR2pNKALGXSagIetrFikmoeth9DaxazdQT68eRvvp9Ht6htkYjuV+P/Fre+fPn54HedB8bzJXKAAACi0lEQVTURRn34B5k69atGy0uLrr7jpXpZditUrvh/ufaGc6qqSQ110SHx6wR4Ly35hHak0oAsZdJqAh62sWKSah62H0NrFrN1BPrx5G++n0e3qG2RiO5Xw++HoWblL969Woe6E33QV2UcY/cgwxaO3bsWJlOBt4qtRsuAK6d4ayaSlJzTXR4zBoBzntrHqE9qQQQe5OSUPLp89LSUmrftfW0CwI+rbR6T6iS3ABUy67WKXM4UNJvczC/tosu+6R2UBkP9NXvGRHVNkVtfUAj9+vZu3dvLashHaAuynhb7kGGJNTjx4/LdDLwVqndcAFw7Qxn1VSSmmuiw2PWCHDeW/MI7UklgNiblIRK7TCknuUFwbJtYGvdvhD/960MfdI3j9oZD7VlxxeWLKEuLHmDtsQQoHZjaLFsDgLUXA6KbIMESIAE4ggg9jIJFcHM+mJl3b4I1L0pSp/0xpXmBkJtmXOJCYOoCxNuoBEJBKjdBGisoiJAzanwsTIJkAAJJBFA7GUSKgKd9cXKun0RqHtTlD7pjSvNDYTaMucSEwZRFybcQCMSCFC7CdBYRUWAmlPhY2USIAESSCKA2MskVAQ664uVdfsiUPemKH3SG1eaGwi1Zc4lJgyiLky4gUYkEKB2E6CxiooANafCx8okQAIkkEQAsZdJqAh01hcr6/ZFoO5NUfqkN640NxBqy5xLTBhEXZhwA41IIEDtJkBjFRUBak6Fj5VJgARIIIkAYi+TUBHorC9W1u2LQN2bovRJb1xpbiDUljmXmDCIujDhBhqRQIDaTYDGKioC1JwKHyuTAAmQQBIBxN4V+Mc/MqAGqAFqgBqgBqgBaoAaoAaoAWqAGqAGqAFqgBooqYH/Bx35t6vWgabtAAAAAElFTkSuQmCC)"
      ]
    },
    {
      "cell_type": "markdown",
      "metadata": {
        "id": "f_ina0IM8NAb"
      },
      "source": [
        "#### 2. O resultado da equação caso: \n",
        "\n",
        "RESPOSTA: FALSO\n",
        "\n",
        "![image.png](data:image/png;base64,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)"
      ]
    },
    {
      "cell_type": "markdown",
      "metadata": {
        "id": "bYfpW_9QDUub"
      },
      "source": [
        "#### 3. A implementação da equação em linguagem de programação contendo as variáveis da letra B"
      ]
    },
    {
      "cell_type": "code",
      "metadata": {
        "colab": {
          "base_uri": "https://localhost:8080/"
        },
        "id": "zwDa3C_i86_n",
        "outputId": "f57b6334-c4f3-4704-e36e-877cb17de50b"
      },
      "source": [
        "p = False\n",
        "q = False\n",
        "r = False\n",
        "\n",
        "# p = bool(10 % 2 != 0)\n",
        "# q = bool(2 % 3 == 0)\n",
        "# r = bool(9 in [1,2,4])\n",
        "\n",
        "equacao = (p and q) or ( r or q or p ) and not((p and q) and not(p or r))\n",
        "\n",
        "print(equacao)"
      ],
      "execution_count": null,
      "outputs": [
        {
          "output_type": "stream",
          "text": [
            "False\n"
          ],
          "name": "stdout"
        }
      ]
    },
    {
      "cell_type": "markdown",
      "metadata": {
        "id": "XCcb0y6q-QJP"
      },
      "source": [
        "### Questão 2\n",
        "\n",
        "> (p v q ^ r) v ~(p v r):\n",
        "\n",
        "RESPOSTA: "
      ]
    },
    {
      "cell_type": "code",
      "metadata": {
        "colab": {
          "base_uri": "https://localhost:8080/"
        },
        "id": "pIVcdaDi_Akc",
        "outputId": "e0e1d1dd-4102-4204-94f7-a1b4d955457a"
      },
      "source": [
        "# distancia_1 = 5 - 2\n",
        "# distancia_2 = 2 - 4\n",
        "# distancia_euclidiana = (distancia_1**2 + distancia_2**2) ** (1/2)\n",
        "\n",
        "# p = True\n",
        "# q = False\n",
        "# r = bool(distancia_euclidiana == 3.453)\n",
        "\n",
        "p = True\n",
        "q = False\n",
        "r = False\n",
        "\n",
        "equacao = ( p or q and r ) or not( p or r )\n",
        "\n",
        "print(equacao)"
      ],
      "execution_count": null,
      "outputs": [
        {
          "output_type": "stream",
          "text": [
            "True\n"
          ],
          "name": "stdout"
        }
      ]
    },
    {
      "cell_type": "markdown",
      "metadata": {
        "id": "5ktTqQotB8Vo"
      },
      "source": [
        "### Questão 3\n",
        "\n",
        "> (~A ˆ B) ∨ (C ^ ~B)"
      ]
    },
    {
      "cell_type": "code",
      "metadata": {
        "colab": {
          "base_uri": "https://localhost:8080/"
        },
        "id": "hSm6x1DPCMw-",
        "outputId": "9621e9e8-d6d7-49fc-9646-c59540add37b"
      },
      "source": [
        "a = False\n",
        "b = False\n",
        "c = False\n",
        "\n",
        "equacao = ( not(a) and b ) or ( c and not(b) )\n",
        "\n",
        "print(equacao)"
      ],
      "execution_count": null,
      "outputs": [
        {
          "output_type": "stream",
          "text": [
            "False\n"
          ],
          "name": "stdout"
        }
      ]
    },
    {
      "cell_type": "markdown",
      "metadata": {
        "id": "wl1cRBfLHT5s"
      },
      "source": [
        "### Questão 4"
      ]
    },
    {
      "cell_type": "markdown",
      "metadata": {
        "id": "JY9PhT-EHdNn"
      },
      "source": [
        "#### a) ((x >0) ∧ (y > 0)) ∨ (z > 0)"
      ]
    },
    {
      "cell_type": "code",
      "metadata": {
        "colab": {
          "base_uri": "https://localhost:8080/"
        },
        "id": "q1DUl93sHm7P",
        "outputId": "0c660226-07be-462c-fc40-09c14d724e09"
      },
      "source": [
        "x = 2\n",
        "y = 1\n",
        "z = -1\n",
        "\n",
        "equacao = ( (x > 0) and ( y > 0 ) ) or ( z > 0 )\n",
        "\n",
        "print(equacao)"
      ],
      "execution_count": null,
      "outputs": [
        {
          "output_type": "stream",
          "text": [
            "True\n"
          ],
          "name": "stdout"
        }
      ]
    },
    {
      "cell_type": "markdown",
      "metadata": {
        "id": "KmI0bsXBHgtk"
      },
      "source": [
        "#### b) ( ¬(x < 2)) ∧ ((Y > 1) ∨ (z > -1))"
      ]
    },
    {
      "cell_type": "code",
      "metadata": {
        "colab": {
          "base_uri": "https://localhost:8080/"
        },
        "id": "066AfbJ3H7qb",
        "outputId": "6f8b0e56-27ac-4e73-dbe5-563d050ad1ce"
      },
      "source": [
        "x = 2\n",
        "y = 1\n",
        "z = -1\n",
        "\n",
        "equacao = ( not(x < 2) ) and ( ( y > 1 ) or (z > -1) )\n",
        "\n",
        "print(equacao)"
      ],
      "execution_count": null,
      "outputs": [
        {
          "output_type": "stream",
          "text": [
            "False\n"
          ],
          "name": "stdout"
        }
      ]
    },
    {
      "cell_type": "markdown",
      "metadata": {
        "id": "gR4M9PFmHjx6"
      },
      "source": [
        "#### c) (x ≥ 2) ∨ (y = 1) ∨ (z < -1)"
      ]
    },
    {
      "cell_type": "code",
      "metadata": {
        "colab": {
          "base_uri": "https://localhost:8080/"
        },
        "id": "J0zfytT2IvVy",
        "outputId": "35b6ef78-bc25-4871-81e7-d72ce99501be"
      },
      "source": [
        "x = 2\n",
        "y = 1\n",
        "z = -1\n",
        "\n",
        "equacao = ( x >= 2 ) or ( y == 1 ) or ( z < -1 )\n",
        "\n",
        "print(equacao)"
      ],
      "execution_count": null,
      "outputs": [
        {
          "output_type": "stream",
          "text": [
            "True\n"
          ],
          "name": "stdout"
        }
      ]
    },
    {
      "cell_type": "code",
      "metadata": {
        "colab": {
          "base_uri": "https://localhost:8080/"
        },
        "id": "eUk2R8z50oe2",
        "outputId": "f107b849-1eed-42f5-947b-d0f17b647823"
      },
      "source": [
        "p = True\n",
        "q = True\n",
        "r = False\n",
        "\n",
        "resultado = not ( not (p) or q ) and ( not (p) or r or not ( p or q and r ) ) or ( p or r )\n",
        "\n",
        "print(resultado)"
      ],
      "execution_count": null,
      "outputs": [
        {
          "output_type": "stream",
          "text": [
            "True\n"
          ],
          "name": "stdout"
        }
      ]
    },
    {
      "cell_type": "code",
      "metadata": {
        "colab": {
          "base_uri": "https://localhost:8080/"
        },
        "id": "ch-WB6jg3EGF",
        "outputId": "38fb9962-aafa-4ec9-ae99-54d37347cd11"
      },
      "source": [
        "10%3"
      ],
      "execution_count": null,
      "outputs": [
        {
          "output_type": "execute_result",
          "data": {
            "text/plain": [
              "1"
            ]
          },
          "metadata": {
            "tags": []
          },
          "execution_count": 19
        }
      ]
    },
    {
      "cell_type": "markdown",
      "metadata": {
        "id": "8K8IzRveDSsv"
      },
      "source": [
        "## Técnica Kássia de incentivo do mozao\n",
        "\n",
        "Por pontuação acumulada. \n",
        "A a cada atividade entregue a pontuação dela deverá ser somada para média simples, se deixar de entregar, será debitado do saldo.\n",
        "\n",
        "Quando a média das notas passar de 6 pontos, tem direito a 1 nude.\n",
        "\n",
        "E a cada matéria q vc passar vc tem direito ao que vc quiser (ativa ou passiva): oral, lap dance, boundage, etc"
      ]
    },
    {
      "cell_type": "code",
      "metadata": {
        "colab": {
          "base_uri": "https://localhost:8080/"
        },
        "id": "By-ZFib2D9LM",
        "outputId": "b357d3ce-96b0-4093-e8d5-4259afad0fde"
      },
      "source": [
        "atividades = [\n",
        "  {\n",
        "    \"nota\": 7,\n",
        "    \"data\": \"2021-05-17\",\n",
        "    \"descricao\": \"Questionário de parasitologia\"\n",
        "  },\n",
        "  {\n",
        "    \"nota\": 6,\n",
        "    \"data\": \"2021-05-17\",\n",
        "    \"descricao\": \"Questionário de bioquímica\"\n",
        "  },\n",
        "  {\n",
        "    \"nota\": -2,\n",
        "    \"data\": \"2021-05-17\",\n",
        "    \"descricao\": \"Texto informativo\"\n",
        "  },\n",
        "]\n",
        "\n",
        "media = round((sum(atividade['nota'] for atividade in atividades) / len(atividades)),2)\n",
        "\n",
        "for atividade in atividades:\n",
        "  print(f\"({atividade['data']}) {round(atividade['nota'], 2)} pontos - {atividade['descricao']}\")\n",
        "\n",
        "print(f\"\\nMEDIA OBTIDA: {media:.2f}\")"
      ],
      "execution_count": null,
      "outputs": [
        {
          "output_type": "stream",
          "text": [
            "(2021-05-17) 7 pontos - Questionário de parasitologia\n",
            "(2021-05-17) 6 pontos - Questionário de bioquímica\n",
            "(2021-05-17) -2 pontos - Texto informativo\n",
            "\n",
            "MEDIA OBTIDA: 3.67\n"
          ],
          "name": "stdout"
        }
      ]
    }
  ]
}